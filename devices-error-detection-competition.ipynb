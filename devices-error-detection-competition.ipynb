{
 "cells": [
  {
   "cell_type": "code",
   "execution_count": 1,
   "id": "cfafbc39",
   "metadata": {
    "_cell_guid": "b1076dfc-b9ad-4769-8c92-a6c4dae69d19",
    "_uuid": "8f2839f25d086af736a60e9eeb907d3b93b6e0e5",
    "execution": {
     "iopub.execute_input": "2025-09-26T00:25:06.554933Z",
     "iopub.status.busy": "2025-09-26T00:25:06.554510Z",
     "iopub.status.idle": "2025-09-26T00:25:08.627240Z",
     "shell.execute_reply": "2025-09-26T00:25:08.626223Z"
    },
    "papermill": {
     "duration": 2.083635,
     "end_time": "2025-09-26T00:25:08.628817",
     "exception": false,
     "start_time": "2025-09-26T00:25:06.545182",
     "status": "completed"
    },
    "tags": []
   },
   "outputs": [
    {
     "name": "stdout",
     "output_type": "stream",
     "text": [
      "/kaggle/input/devices-error-detection-acmud-2025/sample_submission.csv\n",
      "/kaggle/input/devices-error-detection-acmud-2025/train.csv\n",
      "/kaggle/input/devices-error-detection-acmud-2025/test.csv\n"
     ]
    }
   ],
   "source": [
    "# This Python 3 environment comes with many helpful analytics libraries installed\n",
    "# It is defined by the kaggle/python Docker image: https://github.com/kaggle/docker-python\n",
    "# For example, here's several helpful packages to load\n",
    "\n",
    "import numpy as np # linear algebra\n",
    "import pandas as pd # data processing, CSV file I/O (e.g. pd.read_csv)\n",
    "\n",
    "# Input data files are available in the read-only \"../input/\" directory\n",
    "# For example, running this (by clicking run or pressing Shift+Enter) will list all files under the input directory\n",
    "\n",
    "import os\n",
    "for dirname, _, filenames in os.walk('/kaggle/input'):\n",
    "    for filename in filenames:\n",
    "        print(os.path.join(dirname, filename))\n",
    "\n",
    "# You can write up to 20GB to the current directory (/kaggle/working/) that gets preserved as output when you create a version using \"Save & Run All\" \n",
    "# You can also write temporary files to /kaggle/temp/, but they won't be saved outside of the current session"
   ]
  },
  {
   "cell_type": "code",
   "execution_count": 2,
   "id": "bdf91812",
   "metadata": {
    "execution": {
     "iopub.execute_input": "2025-09-26T00:25:08.643306Z",
     "iopub.status.busy": "2025-09-26T00:25:08.642791Z",
     "iopub.status.idle": "2025-09-26T00:25:08.767201Z",
     "shell.execute_reply": "2025-09-26T00:25:08.766176Z"
    },
    "papermill": {
     "duration": 0.133294,
     "end_time": "2025-09-26T00:25:08.768881",
     "exception": false,
     "start_time": "2025-09-26T00:25:08.635587",
     "status": "completed"
    },
    "tags": []
   },
   "outputs": [
    {
     "data": {
      "text/html": [
       "<div>\n",
       "<style scoped>\n",
       "    .dataframe tbody tr th:only-of-type {\n",
       "        vertical-align: middle;\n",
       "    }\n",
       "\n",
       "    .dataframe tbody tr th {\n",
       "        vertical-align: top;\n",
       "    }\n",
       "\n",
       "    .dataframe thead th {\n",
       "        text-align: right;\n",
       "    }\n",
       "</style>\n",
       "<table border=\"1\" class=\"dataframe\">\n",
       "  <thead>\n",
       "    <tr style=\"text-align: right;\">\n",
       "      <th></th>\n",
       "      <th>ID</th>\n",
       "      <th>time</th>\n",
       "      <th>uid</th>\n",
       "      <th>serial</th>\n",
       "      <th>model</th>\n",
       "      <th>temperature</th>\n",
       "      <th>cpu_usage</th>\n",
       "      <th>gpu_usage</th>\n",
       "      <th>upload_usage</th>\n",
       "      <th>download_usage</th>\n",
       "      <th>performance</th>\n",
       "    </tr>\n",
       "  </thead>\n",
       "  <tbody>\n",
       "    <tr>\n",
       "      <th>0</th>\n",
       "      <td>0</td>\n",
       "      <td>0</td>\n",
       "      <td>0</td>\n",
       "      <td>3eaefe1b24bea36cb4accb136e7f6f3c</td>\n",
       "      <td>C</td>\n",
       "      <td>3.943849</td>\n",
       "      <td>0.498604</td>\n",
       "      <td>0.291258</td>\n",
       "      <td>0.724379</td>\n",
       "      <td>0.107881</td>\n",
       "      <td>1.000</td>\n",
       "    </tr>\n",
       "    <tr>\n",
       "      <th>1</th>\n",
       "      <td>1</td>\n",
       "      <td>0</td>\n",
       "      <td>1</td>\n",
       "      <td>48006737b050c2143fb5c369f41b5f75</td>\n",
       "      <td>A</td>\n",
       "      <td>3.943849</td>\n",
       "      <td>0.845603</td>\n",
       "      <td>0.518143</td>\n",
       "      <td>0.708684</td>\n",
       "      <td>0.009955</td>\n",
       "      <td>1.000</td>\n",
       "    </tr>\n",
       "    <tr>\n",
       "      <th>2</th>\n",
       "      <td>2</td>\n",
       "      <td>0</td>\n",
       "      <td>2</td>\n",
       "      <td>f2747d3f693b6453dc09b77edb46be6c</td>\n",
       "      <td>C</td>\n",
       "      <td>3.943849</td>\n",
       "      <td>0.075949</td>\n",
       "      <td>0.838743</td>\n",
       "      <td>0.564937</td>\n",
       "      <td>0.688424</td>\n",
       "      <td>1.000</td>\n",
       "    </tr>\n",
       "    <tr>\n",
       "      <th>3</th>\n",
       "      <td>3</td>\n",
       "      <td>0</td>\n",
       "      <td>3</td>\n",
       "      <td>ac58645c928c33a1ae2eeba8d203dade</td>\n",
       "      <td>B</td>\n",
       "      <td>3.943849</td>\n",
       "      <td>0.077407</td>\n",
       "      <td>0.686753</td>\n",
       "      <td>0.804593</td>\n",
       "      <td>0.062835</td>\n",
       "      <td>1.000</td>\n",
       "    </tr>\n",
       "    <tr>\n",
       "      <th>4</th>\n",
       "      <td>4</td>\n",
       "      <td>0</td>\n",
       "      <td>4</td>\n",
       "      <td>87b4dc2eb0f18004b051c414bcab7fca</td>\n",
       "      <td>B</td>\n",
       "      <td>3.943849</td>\n",
       "      <td>0.481766</td>\n",
       "      <td>0.442025</td>\n",
       "      <td>0.006727</td>\n",
       "      <td>0.665060</td>\n",
       "      <td>1.000</td>\n",
       "    </tr>\n",
       "    <tr>\n",
       "      <th>...</th>\n",
       "      <td>...</td>\n",
       "      <td>...</td>\n",
       "      <td>...</td>\n",
       "      <td>...</td>\n",
       "      <td>...</td>\n",
       "      <td>...</td>\n",
       "      <td>...</td>\n",
       "      <td>...</td>\n",
       "      <td>...</td>\n",
       "      <td>...</td>\n",
       "      <td>...</td>\n",
       "    </tr>\n",
       "    <tr>\n",
       "      <th>14995</th>\n",
       "      <td>14995</td>\n",
       "      <td>499</td>\n",
       "      <td>25</td>\n",
       "      <td>1f772090dada3555ae5acd272b4e0a7e</td>\n",
       "      <td>B</td>\n",
       "      <td>90.000000</td>\n",
       "      <td>243.609056</td>\n",
       "      <td>269.060143</td>\n",
       "      <td>0.436031</td>\n",
       "      <td>0.120899</td>\n",
       "      <td>0.208</td>\n",
       "    </tr>\n",
       "    <tr>\n",
       "      <th>14996</th>\n",
       "      <td>14996</td>\n",
       "      <td>499</td>\n",
       "      <td>26</td>\n",
       "      <td>21e2f88ac6f61f0654d8a6bc613c6dc9</td>\n",
       "      <td>A</td>\n",
       "      <td>90.000000</td>\n",
       "      <td>241.890345</td>\n",
       "      <td>249.286210</td>\n",
       "      <td>0.352901</td>\n",
       "      <td>0.544579</td>\n",
       "      <td>0.218</td>\n",
       "    </tr>\n",
       "    <tr>\n",
       "      <th>14997</th>\n",
       "      <td>14997</td>\n",
       "      <td>499</td>\n",
       "      <td>27</td>\n",
       "      <td>137e8d0422026c443caee435a4bad05a</td>\n",
       "      <td>C</td>\n",
       "      <td>90.000000</td>\n",
       "      <td>246.126026</td>\n",
       "      <td>249.868530</td>\n",
       "      <td>0.995627</td>\n",
       "      <td>0.770770</td>\n",
       "      <td>0.240</td>\n",
       "    </tr>\n",
       "    <tr>\n",
       "      <th>14998</th>\n",
       "      <td>14998</td>\n",
       "      <td>499</td>\n",
       "      <td>28</td>\n",
       "      <td>b37febd9281aaa1fb1e96ce4332be04a</td>\n",
       "      <td>C</td>\n",
       "      <td>90.000000</td>\n",
       "      <td>240.052671</td>\n",
       "      <td>236.176575</td>\n",
       "      <td>0.915995</td>\n",
       "      <td>0.527004</td>\n",
       "      <td>0.232</td>\n",
       "    </tr>\n",
       "    <tr>\n",
       "      <th>14999</th>\n",
       "      <td>14999</td>\n",
       "      <td>499</td>\n",
       "      <td>29</td>\n",
       "      <td>450980e688dc4eba93016d0976fe3da8</td>\n",
       "      <td>A</td>\n",
       "      <td>90.000000</td>\n",
       "      <td>243.320438</td>\n",
       "      <td>236.849754</td>\n",
       "      <td>0.232635</td>\n",
       "      <td>0.329228</td>\n",
       "      <td>0.218</td>\n",
       "    </tr>\n",
       "  </tbody>\n",
       "</table>\n",
       "<p>15000 rows × 11 columns</p>\n",
       "</div>"
      ],
      "text/plain": [
       "          ID  time  uid                            serial model  temperature  \\\n",
       "0          0     0    0  3eaefe1b24bea36cb4accb136e7f6f3c     C     3.943849   \n",
       "1          1     0    1  48006737b050c2143fb5c369f41b5f75     A     3.943849   \n",
       "2          2     0    2  f2747d3f693b6453dc09b77edb46be6c     C     3.943849   \n",
       "3          3     0    3  ac58645c928c33a1ae2eeba8d203dade     B     3.943849   \n",
       "4          4     0    4  87b4dc2eb0f18004b051c414bcab7fca     B     3.943849   \n",
       "...      ...   ...  ...                               ...   ...          ...   \n",
       "14995  14995   499   25  1f772090dada3555ae5acd272b4e0a7e     B    90.000000   \n",
       "14996  14996   499   26  21e2f88ac6f61f0654d8a6bc613c6dc9     A    90.000000   \n",
       "14997  14997   499   27  137e8d0422026c443caee435a4bad05a     C    90.000000   \n",
       "14998  14998   499   28  b37febd9281aaa1fb1e96ce4332be04a     C    90.000000   \n",
       "14999  14999   499   29  450980e688dc4eba93016d0976fe3da8     A    90.000000   \n",
       "\n",
       "        cpu_usage   gpu_usage  upload_usage  download_usage  performance  \n",
       "0        0.498604    0.291258      0.724379        0.107881        1.000  \n",
       "1        0.845603    0.518143      0.708684        0.009955        1.000  \n",
       "2        0.075949    0.838743      0.564937        0.688424        1.000  \n",
       "3        0.077407    0.686753      0.804593        0.062835        1.000  \n",
       "4        0.481766    0.442025      0.006727        0.665060        1.000  \n",
       "...           ...         ...           ...             ...          ...  \n",
       "14995  243.609056  269.060143      0.436031        0.120899        0.208  \n",
       "14996  241.890345  249.286210      0.352901        0.544579        0.218  \n",
       "14997  246.126026  249.868530      0.995627        0.770770        0.240  \n",
       "14998  240.052671  236.176575      0.915995        0.527004        0.232  \n",
       "14999  243.320438  236.849754      0.232635        0.329228        0.218  \n",
       "\n",
       "[15000 rows x 11 columns]"
      ]
     },
     "execution_count": 2,
     "metadata": {},
     "output_type": "execute_result"
    }
   ],
   "source": [
    "df = pd.read_csv('/kaggle/input/devices-error-detection-acmud-2025/train.csv')\n",
    "df"
   ]
  },
  {
   "cell_type": "code",
   "execution_count": 3,
   "id": "0a6ad147",
   "metadata": {
    "execution": {
     "iopub.execute_input": "2025-09-26T00:25:08.784089Z",
     "iopub.status.busy": "2025-09-26T00:25:08.783731Z",
     "iopub.status.idle": "2025-09-26T00:25:10.896915Z",
     "shell.execute_reply": "2025-09-26T00:25:10.895904Z"
    },
    "papermill": {
     "duration": 2.123913,
     "end_time": "2025-09-26T00:25:10.899596",
     "exception": false,
     "start_time": "2025-09-26T00:25:08.775683",
     "status": "completed"
    },
    "tags": []
   },
   "outputs": [
    {
     "data": {
      "text/plain": [
       "array([[<Axes: title={'center': 'ID'}>, <Axes: title={'center': 'time'}>,\n",
       "        <Axes: title={'center': 'uid'}>],\n",
       "       [<Axes: title={'center': 'temperature'}>,\n",
       "        <Axes: title={'center': 'cpu_usage'}>,\n",
       "        <Axes: title={'center': 'gpu_usage'}>],\n",
       "       [<Axes: title={'center': 'upload_usage'}>,\n",
       "        <Axes: title={'center': 'download_usage'}>,\n",
       "        <Axes: title={'center': 'performance'}>]], dtype=object)"
      ]
     },
     "execution_count": 3,
     "metadata": {},
     "output_type": "execute_result"
    },
    {
     "data": {
      "image/png": "[encoded data removed]",
      "text/plain": [
       "<Figure size 2000x2000 with 9 Axes>"
      ]
     },
     "metadata": {},
     "output_type": "display_data"
    }
   ],
   "source": [
    "df.hist(figsize=(20,20))"
   ]
  },
  {
   "cell_type": "code",
   "execution_count": 4,
   "id": "35142eef",
   "metadata": {
    "execution": {
     "iopub.execute_input": "2025-09-26T00:25:10.919411Z",
     "iopub.status.busy": "2025-09-26T00:25:10.919036Z",
     "iopub.status.idle": "2025-09-26T00:25:10.946161Z",
     "shell.execute_reply": "2025-09-26T00:25:10.945134Z"
    },
    "papermill": {
     "duration": 0.039455,
     "end_time": "2025-09-26T00:25:10.947709",
     "exception": false,
     "start_time": "2025-09-26T00:25:10.908254",
     "status": "completed"
    },
    "tags": []
   },
   "outputs": [
    {
     "name": "stdout",
     "output_type": "stream",
     "text": [
      "<class 'pandas.core.frame.DataFrame'>\n",
      "RangeIndex: 15000 entries, 0 to 14999\n",
      "Data columns (total 11 columns):\n",
      " #   Column          Non-Null Count  Dtype  \n",
      "---  ------          --------------  -----  \n",
      " 0   ID              15000 non-null  int64  \n",
      " 1   time            15000 non-null  int64  \n",
      " 2   uid             15000 non-null  int64  \n",
      " 3   serial          15000 non-null  object \n",
      " 4   model           15000 non-null  object \n",
      " 5   temperature     15000 non-null  float64\n",
      " 6   cpu_usage       15000 non-null  float64\n",
      " 7   gpu_usage       15000 non-null  float64\n",
      " 8   upload_usage    15000 non-null  float64\n",
      " 9   download_usage  15000 non-null  float64\n",
      " 10  performance     15000 non-null  float64\n",
      "dtypes: float64(6), int64(3), object(2)\n",
      "memory usage: 1.3+ MB\n"
     ]
    }
   ],
   "source": [
    "df.info()"
   ]
  },
  {
   "cell_type": "markdown",
   "id": "056c2bcd",
   "metadata": {
    "papermill": {
     "duration": 0.008537,
     "end_time": "2025-09-26T00:25:10.964786",
     "exception": false,
     "start_time": "2025-09-26T00:25:10.956249",
     "status": "completed"
    },
    "tags": []
   },
   "source": [
    "Valido valores nulos en el dataset"
   ]
  },
  {
   "cell_type": "code",
   "execution_count": 5,
   "id": "85b62371",
   "metadata": {
    "execution": {
     "iopub.execute_input": "2025-09-26T00:25:10.983871Z",
     "iopub.status.busy": "2025-09-26T00:25:10.983546Z",
     "iopub.status.idle": "2025-09-26T00:25:10.994464Z",
     "shell.execute_reply": "2025-09-26T00:25:10.993430Z"
    },
    "papermill": {
     "duration": 0.022496,
     "end_time": "2025-09-26T00:25:10.996025",
     "exception": false,
     "start_time": "2025-09-26T00:25:10.973529",
     "status": "completed"
    },
    "tags": []
   },
   "outputs": [
    {
     "data": {
      "text/plain": [
       "ID                0\n",
       "time              0\n",
       "uid               0\n",
       "serial            0\n",
       "model             0\n",
       "temperature       0\n",
       "cpu_usage         0\n",
       "gpu_usage         0\n",
       "upload_usage      0\n",
       "download_usage    0\n",
       "performance       0\n",
       "dtype: int64"
      ]
     },
     "execution_count": 5,
     "metadata": {},
     "output_type": "execute_result"
    }
   ],
   "source": [
    "df.isna().sum()"
   ]
  },
  {
   "cell_type": "markdown",
   "id": "0cfc88f4",
   "metadata": {
    "papermill": {
     "duration": 0.00866,
     "end_time": "2025-09-26T00:25:11.013735",
     "exception": false,
     "start_time": "2025-09-26T00:25:11.005075",
     "status": "completed"
    },
    "tags": []
   },
   "source": [
    "Elimino las columnas \"ID\" y \"serial\" porque no tienen relación con el fallo o rendimiento"
   ]
  },
  {
   "cell_type": "code",
   "execution_count": 6,
   "id": "b1bdb4a5",
   "metadata": {
    "execution": {
     "iopub.execute_input": "2025-09-26T00:25:11.032578Z",
     "iopub.status.busy": "2025-09-26T00:25:11.032277Z",
     "iopub.status.idle": "2025-09-26T00:25:11.048793Z",
     "shell.execute_reply": "2025-09-26T00:25:11.047682Z"
    },
    "papermill": {
     "duration": 0.028021,
     "end_time": "2025-09-26T00:25:11.050760",
     "exception": false,
     "start_time": "2025-09-26T00:25:11.022739",
     "status": "completed"
    },
    "tags": []
   },
   "outputs": [
    {
     "data": {
      "text/html": [
       "<div>\n",
       "<style scoped>\n",
       "    .dataframe tbody tr th:only-of-type {\n",
       "        vertical-align: middle;\n",
       "    }\n",
       "\n",
       "    .dataframe tbody tr th {\n",
       "        vertical-align: top;\n",
       "    }\n",
       "\n",
       "    .dataframe thead th {\n",
       "        text-align: right;\n",
       "    }\n",
       "</style>\n",
       "<table border=\"1\" class=\"dataframe\">\n",
       "  <thead>\n",
       "    <tr style=\"text-align: right;\">\n",
       "      <th></th>\n",
       "      <th>time</th>\n",
       "      <th>uid</th>\n",
       "      <th>model</th>\n",
       "      <th>temperature</th>\n",
       "      <th>cpu_usage</th>\n",
       "      <th>gpu_usage</th>\n",
       "      <th>upload_usage</th>\n",
       "      <th>download_usage</th>\n",
       "      <th>performance</th>\n",
       "    </tr>\n",
       "  </thead>\n",
       "  <tbody>\n",
       "    <tr>\n",
       "      <th>0</th>\n",
       "      <td>0</td>\n",
       "      <td>0</td>\n",
       "      <td>C</td>\n",
       "      <td>3.943849</td>\n",
       "      <td>0.498604</td>\n",
       "      <td>0.291258</td>\n",
       "      <td>0.724379</td>\n",
       "      <td>0.107881</td>\n",
       "      <td>1.000</td>\n",
       "    </tr>\n",
       "    <tr>\n",
       "      <th>1</th>\n",
       "      <td>0</td>\n",
       "      <td>1</td>\n",
       "      <td>A</td>\n",
       "      <td>3.943849</td>\n",
       "      <td>0.845603</td>\n",
       "      <td>0.518143</td>\n",
       "      <td>0.708684</td>\n",
       "      <td>0.009955</td>\n",
       "      <td>1.000</td>\n",
       "    </tr>\n",
       "    <tr>\n",
       "      <th>2</th>\n",
       "      <td>0</td>\n",
       "      <td>2</td>\n",
       "      <td>C</td>\n",
       "      <td>3.943849</td>\n",
       "      <td>0.075949</td>\n",
       "      <td>0.838743</td>\n",
       "      <td>0.564937</td>\n",
       "      <td>0.688424</td>\n",
       "      <td>1.000</td>\n",
       "    </tr>\n",
       "    <tr>\n",
       "      <th>3</th>\n",
       "      <td>0</td>\n",
       "      <td>3</td>\n",
       "      <td>B</td>\n",
       "      <td>3.943849</td>\n",
       "      <td>0.077407</td>\n",
       "      <td>0.686753</td>\n",
       "      <td>0.804593</td>\n",
       "      <td>0.062835</td>\n",
       "      <td>1.000</td>\n",
       "    </tr>\n",
       "    <tr>\n",
       "      <th>4</th>\n",
       "      <td>0</td>\n",
       "      <td>4</td>\n",
       "      <td>B</td>\n",
       "      <td>3.943849</td>\n",
       "      <td>0.481766</td>\n",
       "      <td>0.442025</td>\n",
       "      <td>0.006727</td>\n",
       "      <td>0.665060</td>\n",
       "      <td>1.000</td>\n",
       "    </tr>\n",
       "    <tr>\n",
       "      <th>...</th>\n",
       "      <td>...</td>\n",
       "      <td>...</td>\n",
       "      <td>...</td>\n",
       "      <td>...</td>\n",
       "      <td>...</td>\n",
       "      <td>...</td>\n",
       "      <td>...</td>\n",
       "      <td>...</td>\n",
       "      <td>...</td>\n",
       "    </tr>\n",
       "    <tr>\n",
       "      <th>14995</th>\n",
       "      <td>499</td>\n",
       "      <td>25</td>\n",
       "      <td>B</td>\n",
       "      <td>90.000000</td>\n",
       "      <td>243.609056</td>\n",
       "      <td>269.060143</td>\n",
       "      <td>0.436031</td>\n",
       "      <td>0.120899</td>\n",
       "      <td>0.208</td>\n",
       "    </tr>\n",
       "    <tr>\n",
       "      <th>14996</th>\n",
       "      <td>499</td>\n",
       "      <td>26</td>\n",
       "      <td>A</td>\n",
       "      <td>90.000000</td>\n",
       "      <td>241.890345</td>\n",
       "      <td>249.286210</td>\n",
       "      <td>0.352901</td>\n",
       "      <td>0.544579</td>\n",
       "      <td>0.218</td>\n",
       "    </tr>\n",
       "    <tr>\n",
       "      <th>14997</th>\n",
       "      <td>499</td>\n",
       "      <td>27</td>\n",
       "      <td>C</td>\n",
       "      <td>90.000000</td>\n",
       "      <td>246.126026</td>\n",
       "      <td>249.868530</td>\n",
       "      <td>0.995627</td>\n",
       "      <td>0.770770</td>\n",
       "      <td>0.240</td>\n",
       "    </tr>\n",
       "    <tr>\n",
       "      <th>14998</th>\n",
       "      <td>499</td>\n",
       "      <td>28</td>\n",
       "      <td>C</td>\n",
       "      <td>90.000000</td>\n",
       "      <td>240.052671</td>\n",
       "      <td>236.176575</td>\n",
       "      <td>0.915995</td>\n",
       "      <td>0.527004</td>\n",
       "      <td>0.232</td>\n",
       "    </tr>\n",
       "    <tr>\n",
       "      <th>14999</th>\n",
       "      <td>499</td>\n",
       "      <td>29</td>\n",
       "      <td>A</td>\n",
       "      <td>90.000000</td>\n",
       "      <td>243.320438</td>\n",
       "      <td>236.849754</td>\n",
       "      <td>0.232635</td>\n",
       "      <td>0.329228</td>\n",
       "      <td>0.218</td>\n",
       "    </tr>\n",
       "  </tbody>\n",
       "</table>\n",
       "<p>15000 rows × 9 columns</p>\n",
       "</div>"
      ],
      "text/plain": [
       "       time  uid model  temperature   cpu_usage   gpu_usage  upload_usage  \\\n",
       "0         0    0     C     3.943849    0.498604    0.291258      0.724379   \n",
       "1         0    1     A     3.943849    0.845603    0.518143      0.708684   \n",
       "2         0    2     C     3.943849    0.075949    0.838743      0.564937   \n",
       "3         0    3     B     3.943849    0.077407    0.686753      0.804593   \n",
       "4         0    4     B     3.943849    0.481766    0.442025      0.006727   \n",
       "...     ...  ...   ...          ...         ...         ...           ...   \n",
       "14995   499   25     B    90.000000  243.609056  269.060143      0.436031   \n",
       "14996   499   26     A    90.000000  241.890345  249.286210      0.352901   \n",
       "14997   499   27     C    90.000000  246.126026  249.868530      0.995627   \n",
       "14998   499   28     C    90.000000  240.052671  236.176575      0.915995   \n",
       "14999   499   29     A    90.000000  243.320438  236.849754      0.232635   \n",
       "\n",
       "       download_usage  performance  \n",
       "0            0.107881        1.000  \n",
       "1            0.009955        1.000  \n",
       "2            0.688424        1.000  \n",
       "3            0.062835        1.000  \n",
       "4            0.665060        1.000  \n",
       "...               ...          ...  \n",
       "14995        0.120899        0.208  \n",
       "14996        0.544579        0.218  \n",
       "14997        0.770770        0.240  \n",
       "14998        0.527004        0.232  \n",
       "14999        0.329228        0.218  \n",
       "\n",
       "[15000 rows x 9 columns]"
      ]
     },
     "execution_count": 6,
     "metadata": {},
     "output_type": "execute_result"
    }
   ],
   "source": [
    "df = df.drop(['ID','serial'], axis=1)\n",
    "df"
   ]
  },
  {
   "cell_type": "markdown",
   "id": "40284686",
   "metadata": {
    "papermill": {
     "duration": 0.008509,
     "end_time": "2025-09-26T00:25:11.068452",
     "exception": false,
     "start_time": "2025-09-26T00:25:11.059943",
     "status": "completed"
    },
    "tags": []
   },
   "source": [
    "Codifico la columna \"model\" porque tiene valores categóricos, entonces la paso a númericos con Label Encoding"
   ]
  },
  {
   "cell_type": "code",
   "execution_count": 7,
   "id": "7f6b8ee7",
   "metadata": {
    "execution": {
     "iopub.execute_input": "2025-09-26T00:25:11.087314Z",
     "iopub.status.busy": "2025-09-26T00:25:11.087018Z",
     "iopub.status.idle": "2025-09-26T00:25:12.747178Z",
     "shell.execute_reply": "2025-09-26T00:25:12.746144Z"
    },
    "papermill": {
     "duration": 1.671606,
     "end_time": "2025-09-26T00:25:12.748762",
     "exception": false,
     "start_time": "2025-09-26T00:25:11.077156",
     "status": "completed"
    },
    "tags": []
   },
   "outputs": [
    {
     "data": {
      "text/html": [
       "<div>\n",
       "<style scoped>\n",
       "    .dataframe tbody tr th:only-of-type {\n",
       "        vertical-align: middle;\n",
       "    }\n",
       "\n",
       "    .dataframe tbody tr th {\n",
       "        vertical-align: top;\n",
       "    }\n",
       "\n",
       "    .dataframe thead th {\n",
       "        text-align: right;\n",
       "    }\n",
       "</style>\n",
       "<table border=\"1\" class=\"dataframe\">\n",
       "  <thead>\n",
       "    <tr style=\"text-align: right;\">\n",
       "      <th></th>\n",
       "      <th>time</th>\n",
       "      <th>uid</th>\n",
       "      <th>temperature</th>\n",
       "      <th>cpu_usage</th>\n",
       "      <th>gpu_usage</th>\n",
       "      <th>upload_usage</th>\n",
       "      <th>download_usage</th>\n",
       "      <th>performance</th>\n",
       "      <th>model_A</th>\n",
       "      <th>model_B</th>\n",
       "      <th>model_C</th>\n",
       "    </tr>\n",
       "  </thead>\n",
       "  <tbody>\n",
       "    <tr>\n",
       "      <th>0</th>\n",
       "      <td>0</td>\n",
       "      <td>0</td>\n",
       "      <td>3.943849</td>\n",
       "      <td>0.498604</td>\n",
       "      <td>0.291258</td>\n",
       "      <td>0.724379</td>\n",
       "      <td>0.107881</td>\n",
       "      <td>1.000</td>\n",
       "      <td>0</td>\n",
       "      <td>0</td>\n",
       "      <td>1</td>\n",
       "    </tr>\n",
       "    <tr>\n",
       "      <th>1</th>\n",
       "      <td>0</td>\n",
       "      <td>1</td>\n",
       "      <td>3.943849</td>\n",
       "      <td>0.845603</td>\n",
       "      <td>0.518143</td>\n",
       "      <td>0.708684</td>\n",
       "      <td>0.009955</td>\n",
       "      <td>1.000</td>\n",
       "      <td>1</td>\n",
       "      <td>0</td>\n",
       "      <td>0</td>\n",
       "    </tr>\n",
       "    <tr>\n",
       "      <th>2</th>\n",
       "      <td>0</td>\n",
       "      <td>2</td>\n",
       "      <td>3.943849</td>\n",
       "      <td>0.075949</td>\n",
       "      <td>0.838743</td>\n",
       "      <td>0.564937</td>\n",
       "      <td>0.688424</td>\n",
       "      <td>1.000</td>\n",
       "      <td>0</td>\n",
       "      <td>0</td>\n",
       "      <td>1</td>\n",
       "    </tr>\n",
       "    <tr>\n",
       "      <th>3</th>\n",
       "      <td>0</td>\n",
       "      <td>3</td>\n",
       "      <td>3.943849</td>\n",
       "      <td>0.077407</td>\n",
       "      <td>0.686753</td>\n",
       "      <td>0.804593</td>\n",
       "      <td>0.062835</td>\n",
       "      <td>1.000</td>\n",
       "      <td>0</td>\n",
       "      <td>1</td>\n",
       "      <td>0</td>\n",
       "    </tr>\n",
       "    <tr>\n",
       "      <th>4</th>\n",
       "      <td>0</td>\n",
       "      <td>4</td>\n",
       "      <td>3.943849</td>\n",
       "      <td>0.481766</td>\n",
       "      <td>0.442025</td>\n",
       "      <td>0.006727</td>\n",
       "      <td>0.665060</td>\n",
       "      <td>1.000</td>\n",
       "      <td>0</td>\n",
       "      <td>1</td>\n",
       "      <td>0</td>\n",
       "    </tr>\n",
       "    <tr>\n",
       "      <th>...</th>\n",
       "      <td>...</td>\n",
       "      <td>...</td>\n",
       "      <td>...</td>\n",
       "      <td>...</td>\n",
       "      <td>...</td>\n",
       "      <td>...</td>\n",
       "      <td>...</td>\n",
       "      <td>...</td>\n",
       "      <td>...</td>\n",
       "      <td>...</td>\n",
       "      <td>...</td>\n",
       "    </tr>\n",
       "    <tr>\n",
       "      <th>14995</th>\n",
       "      <td>499</td>\n",
       "      <td>25</td>\n",
       "      <td>90.000000</td>\n",
       "      <td>243.609056</td>\n",
       "      <td>269.060143</td>\n",
       "      <td>0.436031</td>\n",
       "      <td>0.120899</td>\n",
       "      <td>0.208</td>\n",
       "      <td>0</td>\n",
       "      <td>1</td>\n",
       "      <td>0</td>\n",
       "    </tr>\n",
       "    <tr>\n",
       "      <th>14996</th>\n",
       "      <td>499</td>\n",
       "      <td>26</td>\n",
       "      <td>90.000000</td>\n",
       "      <td>241.890345</td>\n",
       "      <td>249.286210</td>\n",
       "      <td>0.352901</td>\n",
       "      <td>0.544579</td>\n",
       "      <td>0.218</td>\n",
       "      <td>1</td>\n",
       "      <td>0</td>\n",
       "      <td>0</td>\n",
       "    </tr>\n",
       "    <tr>\n",
       "      <th>14997</th>\n",
       "      <td>499</td>\n",
       "      <td>27</td>\n",
       "      <td>90.000000</td>\n",
       "      <td>246.126026</td>\n",
       "      <td>249.868530</td>\n",
       "      <td>0.995627</td>\n",
       "      <td>0.770770</td>\n",
       "      <td>0.240</td>\n",
       "      <td>0</td>\n",
       "      <td>0</td>\n",
       "      <td>1</td>\n",
       "    </tr>\n",
       "    <tr>\n",
       "      <th>14998</th>\n",
       "      <td>499</td>\n",
       "      <td>28</td>\n",
       "      <td>90.000000</td>\n",
       "      <td>240.052671</td>\n",
       "      <td>236.176575</td>\n",
       "      <td>0.915995</td>\n",
       "      <td>0.527004</td>\n",
       "      <td>0.232</td>\n",
       "      <td>0</td>\n",
       "      <td>0</td>\n",
       "      <td>1</td>\n",
       "    </tr>\n",
       "    <tr>\n",
       "      <th>14999</th>\n",
       "      <td>499</td>\n",
       "      <td>29</td>\n",
       "      <td>90.000000</td>\n",
       "      <td>243.320438</td>\n",
       "      <td>236.849754</td>\n",
       "      <td>0.232635</td>\n",
       "      <td>0.329228</td>\n",
       "      <td>0.218</td>\n",
       "      <td>1</td>\n",
       "      <td>0</td>\n",
       "      <td>0</td>\n",
       "    </tr>\n",
       "  </tbody>\n",
       "</table>\n",
       "<p>15000 rows × 11 columns</p>\n",
       "</div>"
      ],
      "text/plain": [
       "       time  uid  temperature   cpu_usage   gpu_usage  upload_usage  \\\n",
       "0         0    0     3.943849    0.498604    0.291258      0.724379   \n",
       "1         0    1     3.943849    0.845603    0.518143      0.708684   \n",
       "2         0    2     3.943849    0.075949    0.838743      0.564937   \n",
       "3         0    3     3.943849    0.077407    0.686753      0.804593   \n",
       "4         0    4     3.943849    0.481766    0.442025      0.006727   \n",
       "...     ...  ...          ...         ...         ...           ...   \n",
       "14995   499   25    90.000000  243.609056  269.060143      0.436031   \n",
       "14996   499   26    90.000000  241.890345  249.286210      0.352901   \n",
       "14997   499   27    90.000000  246.126026  249.868530      0.995627   \n",
       "14998   499   28    90.000000  240.052671  236.176575      0.915995   \n",
       "14999   499   29    90.000000  243.320438  236.849754      0.232635   \n",
       "\n",
       "       download_usage  performance  model_A  model_B  model_C  \n",
       "0            0.107881        1.000        0        0        1  \n",
       "1            0.009955        1.000        1        0        0  \n",
       "2            0.688424        1.000        0        0        1  \n",
       "3            0.062835        1.000        0        1        0  \n",
       "4            0.665060        1.000        0        1        0  \n",
       "...               ...          ...      ...      ...      ...  \n",
       "14995        0.120899        0.208        0        1        0  \n",
       "14996        0.544579        0.218        1        0        0  \n",
       "14997        0.770770        0.240        0        0        1  \n",
       "14998        0.527004        0.232        0        0        1  \n",
       "14999        0.329228        0.218        1        0        0  \n",
       "\n",
       "[15000 rows x 11 columns]"
      ]
     },
     "execution_count": 7,
     "metadata": {},
     "output_type": "execute_result"
    }
   ],
   "source": [
    "from sklearn.preprocessing import OneHotEncoder\n",
    "\n",
    "encoder = OneHotEncoder(sparse_output=False, dtype=int)  # para evitar booleanos\n",
    "encoded_model = encoder.fit_transform(df[[\"model\"]])\n",
    "encoded_cols = encoder.get_feature_names_out([\"model\"])\n",
    "\n",
    "df_encoded = pd.DataFrame(encoded_model, columns=encoded_cols)\n",
    "df = pd.concat([df.drop(columns=[\"model\"]), df_encoded], axis=1)\n",
    "df"
   ]
  },
  {
   "cell_type": "markdown",
   "id": "aa8f5c52",
   "metadata": {
    "papermill": {
     "duration": 0.008676,
     "end_time": "2025-09-26T00:25:12.766617",
     "exception": false,
     "start_time": "2025-09-26T00:25:12.757941",
     "status": "completed"
    },
    "tags": []
   },
   "source": [
    "Creo la variable objetivo, pero teniendo en cuenta que a menor rendimiento hay mayor probabilidad al fallo:\n",
    "* Fallo = 1 si \"performance\" es menor a un indicador (0.98)\n",
    "* Fallo = 0 si \"performance\" es alto (unidad estable)\n",
    "\n",
    "Siendo así un problema de clasificación binaria"
   ]
  },
  {
   "cell_type": "code",
   "execution_count": 8,
   "id": "7162c6d4",
   "metadata": {
    "execution": {
     "iopub.execute_input": "2025-09-26T00:25:12.787079Z",
     "iopub.status.busy": "2025-09-26T00:25:12.786570Z",
     "iopub.status.idle": "2025-09-26T00:25:12.797273Z",
     "shell.execute_reply": "2025-09-26T00:25:12.796139Z"
    },
    "papermill": {
     "duration": 0.023358,
     "end_time": "2025-09-26T00:25:12.798760",
     "exception": false,
     "start_time": "2025-09-26T00:25:12.775402",
     "status": "completed"
    },
    "tags": []
   },
   "outputs": [
    {
     "name": "stdout",
     "output_type": "stream",
     "text": [
      "fallo\n",
      "1    0.978133\n",
      "0    0.021867\n",
      "Name: proportion, dtype: float64\n"
     ]
    }
   ],
   "source": [
    "df[\"fallo\"] = (df[\"performance\"] < 0.98).astype(int)\n",
    "df\n",
    "print(df[\"fallo\"].value_counts(normalize=True))"
   ]
  },
  {
   "cell_type": "markdown",
   "id": "197c2f98",
   "metadata": {
    "papermill": {
     "duration": 0.008827,
     "end_time": "2025-09-26T00:25:12.816658",
     "exception": false,
     "start_time": "2025-09-26T00:25:12.807831",
     "status": "completed"
    },
    "tags": []
   },
   "source": [
    "Con esto se concluye que hay más datos de fallos detectados"
   ]
  },
  {
   "cell_type": "markdown",
   "id": "c5267ce6",
   "metadata": {
    "papermill": {
     "duration": 0.008894,
     "end_time": "2025-09-26T00:25:12.834486",
     "exception": false,
     "start_time": "2025-09-26T00:25:12.825592",
     "status": "completed"
    },
    "tags": []
   },
   "source": [
    "### Correlaciones con la variable objetivo"
   ]
  },
  {
   "cell_type": "code",
   "execution_count": 9,
   "id": "8c883ce3",
   "metadata": {
    "execution": {
     "iopub.execute_input": "2025-09-26T00:25:12.854764Z",
     "iopub.status.busy": "2025-09-26T00:25:12.854426Z",
     "iopub.status.idle": "2025-09-26T00:25:12.860743Z",
     "shell.execute_reply": "2025-09-26T00:25:12.859871Z"
    },
    "papermill": {
     "duration": 0.019145,
     "end_time": "2025-09-26T00:25:12.862526",
     "exception": false,
     "start_time": "2025-09-26T00:25:12.843381",
     "status": "completed"
    },
    "tags": []
   },
   "outputs": [
    {
     "data": {
      "text/plain": [
       "Index(['time', 'uid', 'temperature', 'cpu_usage', 'gpu_usage', 'upload_usage',\n",
       "       'download_usage', 'performance', 'model_A', 'model_B', 'model_C',\n",
       "       'fallo'],\n",
       "      dtype='object')"
      ]
     },
     "execution_count": 9,
     "metadata": {},
     "output_type": "execute_result"
    }
   ],
   "source": [
    "df.columns"
   ]
  },
  {
   "cell_type": "code",
   "execution_count": 10,
   "id": "de06a38a",
   "metadata": {
    "execution": {
     "iopub.execute_input": "2025-09-26T00:25:12.882967Z",
     "iopub.status.busy": "2025-09-26T00:25:12.882605Z",
     "iopub.status.idle": "2025-09-26T00:25:12.901316Z",
     "shell.execute_reply": "2025-09-26T00:25:12.899926Z"
    },
    "papermill": {
     "duration": 0.030391,
     "end_time": "2025-09-26T00:25:12.902869",
     "exception": false,
     "start_time": "2025-09-26T00:25:12.872478",
     "status": "completed"
    },
    "tags": []
   },
   "outputs": [
    {
     "name": "stdout",
     "output_type": "stream",
     "text": [
      "fallo             1.000000\n",
      "temperature       0.699459\n",
      "time              0.249435\n",
      "cpu_usage         0.248278\n",
      "gpu_usage         0.246193\n",
      "model_A           0.021097\n",
      "model_B           0.005635\n",
      "uid              -0.001001\n",
      "download_usage   -0.001200\n",
      "upload_usage     -0.002736\n",
      "model_C          -0.023696\n",
      "performance      -0.396045\n",
      "Name: fallo, dtype: float64\n"
     ]
    }
   ],
   "source": [
    "numeric_cols = df.columns\n",
    "corr = df[numeric_cols].corr()\n",
    "\n",
    "print(corr[\"fallo\"].sort_values(ascending=False))"
   ]
  },
  {
   "cell_type": "code",
   "execution_count": 11,
   "id": "2110181a",
   "metadata": {
    "execution": {
     "iopub.execute_input": "2025-09-26T00:25:12.922396Z",
     "iopub.status.busy": "2025-09-26T00:25:12.922103Z",
     "iopub.status.idle": "2025-09-26T00:25:14.082724Z",
     "shell.execute_reply": "2025-09-26T00:25:14.081646Z"
    },
    "papermill": {
     "duration": 1.173226,
     "end_time": "2025-09-26T00:25:14.085239",
     "exception": false,
     "start_time": "2025-09-26T00:25:12.912013",
     "status": "completed"
    },
    "tags": []
   },
   "outputs": [
    {
     "data": {
      "image/png": "[encoded data removed]",
      "text/plain": [
       "<Figure size 1000x600 with 2 Axes>"
      ]
     },
     "metadata": {},
     "output_type": "display_data"
    }
   ],
   "source": [
    "import seaborn as sns\n",
    "import matplotlib.pyplot as plt\n",
    "\n",
    "plt.figure(figsize=(10, 6))\n",
    "sns.heatmap(corr, annot=True, cmap=\"viridis\", fmt=\".2f\")\n",
    "plt.title(\"Matriz de correlación\")\n",
    "plt.show()"
   ]
  },
  {
   "cell_type": "markdown",
   "id": "7b333aec",
   "metadata": {
    "papermill": {
     "duration": 0.010658,
     "end_time": "2025-09-26T00:25:14.109592",
     "exception": false,
     "start_time": "2025-09-26T00:25:14.098934",
     "status": "completed"
    },
    "tags": []
   },
   "source": [
    "Teniendo las variables identificadas correlacionadas con la variable objetivo es posible tener hipotesis más seguras:\n",
    "* A mayor \"temperature\", \"time\", \"cpu_usage\" y \"gpu_usage\" es propenso a fallar el dispositivo\n",
    "* A menor \"upload_usage\", y demás variables tienede a fallar menos el dispositivo\n",
    "\n",
    "Esto permite seleccionar las variables relevantes en el modelo y eliminar las que no aportan."
   ]
  },
  {
   "cell_type": "code",
   "execution_count": 12,
   "id": "1807ac48",
   "metadata": {
    "execution": {
     "iopub.execute_input": "2025-09-26T00:25:14.132931Z",
     "iopub.status.busy": "2025-09-26T00:25:14.132453Z",
     "iopub.status.idle": "2025-09-26T00:25:14.146416Z",
     "shell.execute_reply": "2025-09-26T00:25:14.145473Z"
    },
    "papermill": {
     "duration": 0.027606,
     "end_time": "2025-09-26T00:25:14.148016",
     "exception": false,
     "start_time": "2025-09-26T00:25:14.120410",
     "status": "completed"
    },
    "tags": []
   },
   "outputs": [
    {
     "data": {
      "text/html": [
       "<div>\n",
       "<style scoped>\n",
       "    .dataframe tbody tr th:only-of-type {\n",
       "        vertical-align: middle;\n",
       "    }\n",
       "\n",
       "    .dataframe tbody tr th {\n",
       "        vertical-align: top;\n",
       "    }\n",
       "\n",
       "    .dataframe thead th {\n",
       "        text-align: right;\n",
       "    }\n",
       "</style>\n",
       "<table border=\"1\" class=\"dataframe\">\n",
       "  <thead>\n",
       "    <tr style=\"text-align: right;\">\n",
       "      <th></th>\n",
       "      <th>time</th>\n",
       "      <th>temperature</th>\n",
       "      <th>cpu_usage</th>\n",
       "      <th>gpu_usage</th>\n",
       "      <th>fallo</th>\n",
       "    </tr>\n",
       "  </thead>\n",
       "  <tbody>\n",
       "    <tr>\n",
       "      <th>0</th>\n",
       "      <td>0</td>\n",
       "      <td>3.943849</td>\n",
       "      <td>0.498604</td>\n",
       "      <td>0.291258</td>\n",
       "      <td>0</td>\n",
       "    </tr>\n",
       "    <tr>\n",
       "      <th>1</th>\n",
       "      <td>0</td>\n",
       "      <td>3.943849</td>\n",
       "      <td>0.845603</td>\n",
       "      <td>0.518143</td>\n",
       "      <td>0</td>\n",
       "    </tr>\n",
       "    <tr>\n",
       "      <th>2</th>\n",
       "      <td>0</td>\n",
       "      <td>3.943849</td>\n",
       "      <td>0.075949</td>\n",
       "      <td>0.838743</td>\n",
       "      <td>0</td>\n",
       "    </tr>\n",
       "    <tr>\n",
       "      <th>3</th>\n",
       "      <td>0</td>\n",
       "      <td>3.943849</td>\n",
       "      <td>0.077407</td>\n",
       "      <td>0.686753</td>\n",
       "      <td>0</td>\n",
       "    </tr>\n",
       "    <tr>\n",
       "      <th>4</th>\n",
       "      <td>0</td>\n",
       "      <td>3.943849</td>\n",
       "      <td>0.481766</td>\n",
       "      <td>0.442025</td>\n",
       "      <td>0</td>\n",
       "    </tr>\n",
       "    <tr>\n",
       "      <th>...</th>\n",
       "      <td>...</td>\n",
       "      <td>...</td>\n",
       "      <td>...</td>\n",
       "      <td>...</td>\n",
       "      <td>...</td>\n",
       "    </tr>\n",
       "    <tr>\n",
       "      <th>14995</th>\n",
       "      <td>499</td>\n",
       "      <td>90.000000</td>\n",
       "      <td>243.609056</td>\n",
       "      <td>269.060143</td>\n",
       "      <td>1</td>\n",
       "    </tr>\n",
       "    <tr>\n",
       "      <th>14996</th>\n",
       "      <td>499</td>\n",
       "      <td>90.000000</td>\n",
       "      <td>241.890345</td>\n",
       "      <td>249.286210</td>\n",
       "      <td>1</td>\n",
       "    </tr>\n",
       "    <tr>\n",
       "      <th>14997</th>\n",
       "      <td>499</td>\n",
       "      <td>90.000000</td>\n",
       "      <td>246.126026</td>\n",
       "      <td>249.868530</td>\n",
       "      <td>1</td>\n",
       "    </tr>\n",
       "    <tr>\n",
       "      <th>14998</th>\n",
       "      <td>499</td>\n",
       "      <td>90.000000</td>\n",
       "      <td>240.052671</td>\n",
       "      <td>236.176575</td>\n",
       "      <td>1</td>\n",
       "    </tr>\n",
       "    <tr>\n",
       "      <th>14999</th>\n",
       "      <td>499</td>\n",
       "      <td>90.000000</td>\n",
       "      <td>243.320438</td>\n",
       "      <td>236.849754</td>\n",
       "      <td>1</td>\n",
       "    </tr>\n",
       "  </tbody>\n",
       "</table>\n",
       "<p>15000 rows × 5 columns</p>\n",
       "</div>"
      ],
      "text/plain": [
       "       time  temperature   cpu_usage   gpu_usage  fallo\n",
       "0         0     3.943849    0.498604    0.291258      0\n",
       "1         0     3.943849    0.845603    0.518143      0\n",
       "2         0     3.943849    0.075949    0.838743      0\n",
       "3         0     3.943849    0.077407    0.686753      0\n",
       "4         0     3.943849    0.481766    0.442025      0\n",
       "...     ...          ...         ...         ...    ...\n",
       "14995   499    90.000000  243.609056  269.060143      1\n",
       "14996   499    90.000000  241.890345  249.286210      1\n",
       "14997   499    90.000000  246.126026  249.868530      1\n",
       "14998   499    90.000000  240.052671  236.176575      1\n",
       "14999   499    90.000000  243.320438  236.849754      1\n",
       "\n",
       "[15000 rows x 5 columns]"
      ]
     },
     "execution_count": 12,
     "metadata": {},
     "output_type": "execute_result"
    }
   ],
   "source": [
    "df = df.drop(['model_A','model_B','uid','download_usage','upload_usage','model_C','performance'], axis=1)\n",
    "df"
   ]
  },
  {
   "cell_type": "markdown",
   "id": "1b179a64",
   "metadata": {
    "papermill": {
     "duration": 0.010749,
     "end_time": "2025-09-26T00:25:14.170125",
     "exception": false,
     "start_time": "2025-09-26T00:25:14.159376",
     "status": "completed"
    },
    "tags": []
   },
   "source": [
    "# Preparación del modelo"
   ]
  },
  {
   "cell_type": "code",
   "execution_count": 13,
   "id": "b98ccd19",
   "metadata": {
    "execution": {
     "iopub.execute_input": "2025-09-26T00:25:14.195251Z",
     "iopub.status.busy": "2025-09-26T00:25:14.194947Z",
     "iopub.status.idle": "2025-09-26T00:25:15.115265Z",
     "shell.execute_reply": "2025-09-26T00:25:15.114005Z"
    },
    "papermill": {
     "duration": 0.935972,
     "end_time": "2025-09-26T00:25:15.117272",
     "exception": false,
     "start_time": "2025-09-26T00:25:14.181300",
     "status": "completed"
    },
    "tags": []
   },
   "outputs": [],
   "source": [
    "from sklearn.model_selection import train_test_split\n",
    "from sklearn.preprocessing import StandardScaler\n",
    "from sklearn.linear_model import LogisticRegression\n",
    "from sklearn.ensemble import RandomForestClassifier\n",
    "from xgboost import XGBClassifier\n",
    "from sklearn.metrics import accuracy_score, precision_score, recall_score, f1_score, roc_auc_score, classification_report"
   ]
  },
  {
   "cell_type": "code",
   "execution_count": 14,
   "id": "0cbb3512",
   "metadata": {
    "execution": {
     "iopub.execute_input": "2025-09-26T00:25:15.141329Z",
     "iopub.status.busy": "2025-09-26T00:25:15.141040Z",
     "iopub.status.idle": "2025-09-26T00:25:15.147132Z",
     "shell.execute_reply": "2025-09-26T00:25:15.146114Z"
    },
    "papermill": {
     "duration": 0.020054,
     "end_time": "2025-09-26T00:25:15.148508",
     "exception": false,
     "start_time": "2025-09-26T00:25:15.128454",
     "status": "completed"
    },
    "tags": []
   },
   "outputs": [],
   "source": [
    "X_train = df.drop(columns=[\"fallo\"])\n",
    "y_train = df[\"fallo\"]"
   ]
  },
  {
   "cell_type": "code",
   "execution_count": 15,
   "id": "3f96b884",
   "metadata": {
    "execution": {
     "iopub.execute_input": "2025-09-26T00:25:15.171840Z",
     "iopub.status.busy": "2025-09-26T00:25:15.171532Z",
     "iopub.status.idle": "2025-09-26T00:25:15.239595Z",
     "shell.execute_reply": "2025-09-26T00:25:15.238730Z"
    },
    "papermill": {
     "duration": 0.081633,
     "end_time": "2025-09-26T00:25:15.241180",
     "exception": false,
     "start_time": "2025-09-26T00:25:15.159547",
     "status": "completed"
    },
    "tags": []
   },
   "outputs": [
    {
     "data": {
      "text/html": [
       "<div>\n",
       "<style scoped>\n",
       "    .dataframe tbody tr th:only-of-type {\n",
       "        vertical-align: middle;\n",
       "    }\n",
       "\n",
       "    .dataframe tbody tr th {\n",
       "        vertical-align: top;\n",
       "    }\n",
       "\n",
       "    .dataframe thead th {\n",
       "        text-align: right;\n",
       "    }\n",
       "</style>\n",
       "<table border=\"1\" class=\"dataframe\">\n",
       "  <thead>\n",
       "    <tr style=\"text-align: right;\">\n",
       "      <th></th>\n",
       "      <th>ID</th>\n",
       "      <th>time</th>\n",
       "      <th>uid</th>\n",
       "      <th>serial</th>\n",
       "      <th>model</th>\n",
       "      <th>temperature</th>\n",
       "      <th>cpu_usage</th>\n",
       "      <th>gpu_usage</th>\n",
       "      <th>upload_usage</th>\n",
       "      <th>download_usage</th>\n",
       "    </tr>\n",
       "  </thead>\n",
       "  <tbody>\n",
       "    <tr>\n",
       "      <th>0</th>\n",
       "      <td>0</td>\n",
       "      <td>0</td>\n",
       "      <td>0</td>\n",
       "      <td>983fae13ac9e7010201475bdcd5425c1</td>\n",
       "      <td>B</td>\n",
       "      <td>3.943849</td>\n",
       "      <td>0.119858</td>\n",
       "      <td>0.551513</td>\n",
       "      <td>0.557788</td>\n",
       "      <td>0.582262</td>\n",
       "    </tr>\n",
       "    <tr>\n",
       "      <th>1</th>\n",
       "      <td>1</td>\n",
       "      <td>0</td>\n",
       "      <td>1</td>\n",
       "      <td>ee39ab0beab33d095bc8412f1face877</td>\n",
       "      <td>A</td>\n",
       "      <td>3.943849</td>\n",
       "      <td>0.136291</td>\n",
       "      <td>0.514332</td>\n",
       "      <td>0.125882</td>\n",
       "      <td>0.934079</td>\n",
       "    </tr>\n",
       "    <tr>\n",
       "      <th>2</th>\n",
       "      <td>2</td>\n",
       "      <td>0</td>\n",
       "      <td>2</td>\n",
       "      <td>9657956caf7eb2a287ffaaf1c057db7d</td>\n",
       "      <td>A</td>\n",
       "      <td>3.943849</td>\n",
       "      <td>0.984491</td>\n",
       "      <td>0.836589</td>\n",
       "      <td>0.898724</td>\n",
       "      <td>0.164784</td>\n",
       "    </tr>\n",
       "    <tr>\n",
       "      <th>3</th>\n",
       "      <td>3</td>\n",
       "      <td>0</td>\n",
       "      <td>3</td>\n",
       "      <td>d5b9742195a68893154c481ce074e1ac</td>\n",
       "      <td>A</td>\n",
       "      <td>3.943849</td>\n",
       "      <td>0.804333</td>\n",
       "      <td>0.459606</td>\n",
       "      <td>0.418496</td>\n",
       "      <td>0.849472</td>\n",
       "    </tr>\n",
       "    <tr>\n",
       "      <th>4</th>\n",
       "      <td>4</td>\n",
       "      <td>0</td>\n",
       "      <td>4</td>\n",
       "      <td>20f91577af0aa30af0673b08bd8d28b8</td>\n",
       "      <td>B</td>\n",
       "      <td>3.943849</td>\n",
       "      <td>0.179484</td>\n",
       "      <td>0.265105</td>\n",
       "      <td>0.970877</td>\n",
       "      <td>0.262936</td>\n",
       "    </tr>\n",
       "    <tr>\n",
       "      <th>...</th>\n",
       "      <td>...</td>\n",
       "      <td>...</td>\n",
       "      <td>...</td>\n",
       "      <td>...</td>\n",
       "      <td>...</td>\n",
       "      <td>...</td>\n",
       "      <td>...</td>\n",
       "      <td>...</td>\n",
       "      <td>...</td>\n",
       "      <td>...</td>\n",
       "    </tr>\n",
       "    <tr>\n",
       "      <th>14995</th>\n",
       "      <td>14995</td>\n",
       "      <td>499</td>\n",
       "      <td>25</td>\n",
       "      <td>d80c8c9ff97b43865e6a0d493780c112</td>\n",
       "      <td>C</td>\n",
       "      <td>90.000000</td>\n",
       "      <td>252.920953</td>\n",
       "      <td>252.794245</td>\n",
       "      <td>0.875644</td>\n",
       "      <td>0.341621</td>\n",
       "    </tr>\n",
       "    <tr>\n",
       "      <th>14996</th>\n",
       "      <td>14996</td>\n",
       "      <td>499</td>\n",
       "      <td>26</td>\n",
       "      <td>3e8e690acb2ae857e90893df45121ee8</td>\n",
       "      <td>B</td>\n",
       "      <td>90.000000</td>\n",
       "      <td>255.008661</td>\n",
       "      <td>243.619659</td>\n",
       "      <td>0.693551</td>\n",
       "      <td>0.388309</td>\n",
       "    </tr>\n",
       "    <tr>\n",
       "      <th>14997</th>\n",
       "      <td>14997</td>\n",
       "      <td>499</td>\n",
       "      <td>27</td>\n",
       "      <td>d8ddc9a61024228df225aef3ab2d522c</td>\n",
       "      <td>A</td>\n",
       "      <td>90.000000</td>\n",
       "      <td>245.546571</td>\n",
       "      <td>242.309741</td>\n",
       "      <td>0.247926</td>\n",
       "      <td>0.276499</td>\n",
       "    </tr>\n",
       "    <tr>\n",
       "      <th>14998</th>\n",
       "      <td>14998</td>\n",
       "      <td>499</td>\n",
       "      <td>28</td>\n",
       "      <td>27b4f3a9c47d71f74552ad419940de73</td>\n",
       "      <td>A</td>\n",
       "      <td>90.000000</td>\n",
       "      <td>254.727876</td>\n",
       "      <td>248.595564</td>\n",
       "      <td>0.940234</td>\n",
       "      <td>0.595139</td>\n",
       "    </tr>\n",
       "    <tr>\n",
       "      <th>14999</th>\n",
       "      <td>14999</td>\n",
       "      <td>499</td>\n",
       "      <td>29</td>\n",
       "      <td>381a0d01c9ba006f9afcd5cae10c8a76</td>\n",
       "      <td>A</td>\n",
       "      <td>90.000000</td>\n",
       "      <td>242.917130</td>\n",
       "      <td>254.560629</td>\n",
       "      <td>0.214820</td>\n",
       "      <td>0.409243</td>\n",
       "    </tr>\n",
       "  </tbody>\n",
       "</table>\n",
       "<p>15000 rows × 10 columns</p>\n",
       "</div>"
      ],
      "text/plain": [
       "          ID  time  uid                            serial model  temperature  \\\n",
       "0          0     0    0  983fae13ac9e7010201475bdcd5425c1     B     3.943849   \n",
       "1          1     0    1  ee39ab0beab33d095bc8412f1face877     A     3.943849   \n",
       "2          2     0    2  9657956caf7eb2a287ffaaf1c057db7d     A     3.943849   \n",
       "3          3     0    3  d5b9742195a68893154c481ce074e1ac     A     3.943849   \n",
       "4          4     0    4  20f91577af0aa30af0673b08bd8d28b8     B     3.943849   \n",
       "...      ...   ...  ...                               ...   ...          ...   \n",
       "14995  14995   499   25  d80c8c9ff97b43865e6a0d493780c112     C    90.000000   \n",
       "14996  14996   499   26  3e8e690acb2ae857e90893df45121ee8     B    90.000000   \n",
       "14997  14997   499   27  d8ddc9a61024228df225aef3ab2d522c     A    90.000000   \n",
       "14998  14998   499   28  27b4f3a9c47d71f74552ad419940de73     A    90.000000   \n",
       "14999  14999   499   29  381a0d01c9ba006f9afcd5cae10c8a76     A    90.000000   \n",
       "\n",
       "        cpu_usage   gpu_usage  upload_usage  download_usage  \n",
       "0        0.119858    0.551513      0.557788        0.582262  \n",
       "1        0.136291    0.514332      0.125882        0.934079  \n",
       "2        0.984491    0.836589      0.898724        0.164784  \n",
       "3        0.804333    0.459606      0.418496        0.849472  \n",
       "4        0.179484    0.265105      0.970877        0.262936  \n",
       "...           ...         ...           ...             ...  \n",
       "14995  252.920953  252.794245      0.875644        0.341621  \n",
       "14996  255.008661  243.619659      0.693551        0.388309  \n",
       "14997  245.546571  242.309741      0.247926        0.276499  \n",
       "14998  254.727876  248.595564      0.940234        0.595139  \n",
       "14999  242.917130  254.560629      0.214820        0.409243  \n",
       "\n",
       "[15000 rows x 10 columns]"
      ]
     },
     "execution_count": 15,
     "metadata": {},
     "output_type": "execute_result"
    }
   ],
   "source": [
    "df_test = pd.read_csv('/kaggle/input/devices-error-detection-acmud-2025/test.csv')\n",
    "df_test"
   ]
  },
  {
   "cell_type": "code",
   "execution_count": 16,
   "id": "244c1a99",
   "metadata": {
    "execution": {
     "iopub.execute_input": "2025-09-26T00:25:15.265144Z",
     "iopub.status.busy": "2025-09-26T00:25:15.264811Z",
     "iopub.status.idle": "2025-09-26T00:25:15.277235Z",
     "shell.execute_reply": "2025-09-26T00:25:15.276132Z"
    },
    "papermill": {
     "duration": 0.02596,
     "end_time": "2025-09-26T00:25:15.278679",
     "exception": false,
     "start_time": "2025-09-26T00:25:15.252719",
     "status": "completed"
    },
    "tags": []
   },
   "outputs": [
    {
     "name": "stdout",
     "output_type": "stream",
     "text": [
      "<class 'pandas.core.frame.DataFrame'>\n",
      "RangeIndex: 15000 entries, 0 to 14999\n",
      "Data columns (total 10 columns):\n",
      " #   Column          Non-Null Count  Dtype  \n",
      "---  ------          --------------  -----  \n",
      " 0   ID              15000 non-null  int64  \n",
      " 1   time            15000 non-null  int64  \n",
      " 2   uid             15000 non-null  int64  \n",
      " 3   serial          15000 non-null  object \n",
      " 4   model           15000 non-null  object \n",
      " 5   temperature     15000 non-null  float64\n",
      " 6   cpu_usage       15000 non-null  float64\n",
      " 7   gpu_usage       15000 non-null  float64\n",
      " 8   upload_usage    15000 non-null  float64\n",
      " 9   download_usage  15000 non-null  float64\n",
      "dtypes: float64(5), int64(3), object(2)\n",
      "memory usage: 1.1+ MB\n"
     ]
    }
   ],
   "source": [
    "df_test.info()"
   ]
  },
  {
   "cell_type": "code",
   "execution_count": 17,
   "id": "5102f421",
   "metadata": {
    "execution": {
     "iopub.execute_input": "2025-09-26T00:25:15.302700Z",
     "iopub.status.busy": "2025-09-26T00:25:15.302397Z",
     "iopub.status.idle": "2025-09-26T00:25:15.311455Z",
     "shell.execute_reply": "2025-09-26T00:25:15.310719Z"
    },
    "papermill": {
     "duration": 0.022643,
     "end_time": "2025-09-26T00:25:15.312755",
     "exception": false,
     "start_time": "2025-09-26T00:25:15.290112",
     "status": "completed"
    },
    "tags": []
   },
   "outputs": [
    {
     "data": {
      "text/plain": [
       "ID                0\n",
       "time              0\n",
       "uid               0\n",
       "serial            0\n",
       "model             0\n",
       "temperature       0\n",
       "cpu_usage         0\n",
       "gpu_usage         0\n",
       "upload_usage      0\n",
       "download_usage    0\n",
       "dtype: int64"
      ]
     },
     "execution_count": 17,
     "metadata": {},
     "output_type": "execute_result"
    }
   ],
   "source": [
    "df_test.isna().sum()"
   ]
  },
  {
   "cell_type": "code",
   "execution_count": 18,
   "id": "d4169b4c",
   "metadata": {
    "execution": {
     "iopub.execute_input": "2025-09-26T00:25:15.401295Z",
     "iopub.status.busy": "2025-09-26T00:25:15.400991Z",
     "iopub.status.idle": "2025-09-26T00:25:15.414554Z",
     "shell.execute_reply": "2025-09-26T00:25:15.413552Z"
    },
    "papermill": {
     "duration": 0.091651,
     "end_time": "2025-09-26T00:25:15.416103",
     "exception": false,
     "start_time": "2025-09-26T00:25:15.324452",
     "status": "completed"
    },
    "tags": []
   },
   "outputs": [
    {
     "data": {
      "text/html": [
       "<div>\n",
       "<style scoped>\n",
       "    .dataframe tbody tr th:only-of-type {\n",
       "        vertical-align: middle;\n",
       "    }\n",
       "\n",
       "    .dataframe tbody tr th {\n",
       "        vertical-align: top;\n",
       "    }\n",
       "\n",
       "    .dataframe thead th {\n",
       "        text-align: right;\n",
       "    }\n",
       "</style>\n",
       "<table border=\"1\" class=\"dataframe\">\n",
       "  <thead>\n",
       "    <tr style=\"text-align: right;\">\n",
       "      <th></th>\n",
       "      <th>time</th>\n",
       "      <th>temperature</th>\n",
       "      <th>cpu_usage</th>\n",
       "      <th>gpu_usage</th>\n",
       "    </tr>\n",
       "  </thead>\n",
       "  <tbody>\n",
       "    <tr>\n",
       "      <th>0</th>\n",
       "      <td>0</td>\n",
       "      <td>3.943849</td>\n",
       "      <td>0.119858</td>\n",
       "      <td>0.551513</td>\n",
       "    </tr>\n",
       "    <tr>\n",
       "      <th>1</th>\n",
       "      <td>0</td>\n",
       "      <td>3.943849</td>\n",
       "      <td>0.136291</td>\n",
       "      <td>0.514332</td>\n",
       "    </tr>\n",
       "    <tr>\n",
       "      <th>2</th>\n",
       "      <td>0</td>\n",
       "      <td>3.943849</td>\n",
       "      <td>0.984491</td>\n",
       "      <td>0.836589</td>\n",
       "    </tr>\n",
       "    <tr>\n",
       "      <th>3</th>\n",
       "      <td>0</td>\n",
       "      <td>3.943849</td>\n",
       "      <td>0.804333</td>\n",
       "      <td>0.459606</td>\n",
       "    </tr>\n",
       "    <tr>\n",
       "      <th>4</th>\n",
       "      <td>0</td>\n",
       "      <td>3.943849</td>\n",
       "      <td>0.179484</td>\n",
       "      <td>0.265105</td>\n",
       "    </tr>\n",
       "    <tr>\n",
       "      <th>...</th>\n",
       "      <td>...</td>\n",
       "      <td>...</td>\n",
       "      <td>...</td>\n",
       "      <td>...</td>\n",
       "    </tr>\n",
       "    <tr>\n",
       "      <th>14995</th>\n",
       "      <td>499</td>\n",
       "      <td>90.000000</td>\n",
       "      <td>252.920953</td>\n",
       "      <td>252.794245</td>\n",
       "    </tr>\n",
       "    <tr>\n",
       "      <th>14996</th>\n",
       "      <td>499</td>\n",
       "      <td>90.000000</td>\n",
       "      <td>255.008661</td>\n",
       "      <td>243.619659</td>\n",
       "    </tr>\n",
       "    <tr>\n",
       "      <th>14997</th>\n",
       "      <td>499</td>\n",
       "      <td>90.000000</td>\n",
       "      <td>245.546571</td>\n",
       "      <td>242.309741</td>\n",
       "    </tr>\n",
       "    <tr>\n",
       "      <th>14998</th>\n",
       "      <td>499</td>\n",
       "      <td>90.000000</td>\n",
       "      <td>254.727876</td>\n",
       "      <td>248.595564</td>\n",
       "    </tr>\n",
       "    <tr>\n",
       "      <th>14999</th>\n",
       "      <td>499</td>\n",
       "      <td>90.000000</td>\n",
       "      <td>242.917130</td>\n",
       "      <td>254.560629</td>\n",
       "    </tr>\n",
       "  </tbody>\n",
       "</table>\n",
       "<p>15000 rows × 4 columns</p>\n",
       "</div>"
      ],
      "text/plain": [
       "       time  temperature   cpu_usage   gpu_usage\n",
       "0         0     3.943849    0.119858    0.551513\n",
       "1         0     3.943849    0.136291    0.514332\n",
       "2         0     3.943849    0.984491    0.836589\n",
       "3         0     3.943849    0.804333    0.459606\n",
       "4         0     3.943849    0.179484    0.265105\n",
       "...     ...          ...         ...         ...\n",
       "14995   499    90.000000  252.920953  252.794245\n",
       "14996   499    90.000000  255.008661  243.619659\n",
       "14997   499    90.000000  245.546571  242.309741\n",
       "14998   499    90.000000  254.727876  248.595564\n",
       "14999   499    90.000000  242.917130  254.560629\n",
       "\n",
       "[15000 rows x 4 columns]"
      ]
     },
     "execution_count": 18,
     "metadata": {},
     "output_type": "execute_result"
    }
   ],
   "source": [
    "X_test = df_test.drop(['ID','uid','serial','model','download_usage','upload_usage'], axis=1)\n",
    "X_test"
   ]
  },
  {
   "cell_type": "markdown",
   "id": "1754108b",
   "metadata": {
    "papermill": {
     "duration": 0.012083,
     "end_time": "2025-09-26T00:25:15.440114",
     "exception": false,
     "start_time": "2025-09-26T00:25:15.428031",
     "status": "completed"
    },
    "tags": []
   },
   "source": [
    "#### Regresión Logística"
   ]
  },
  {
   "cell_type": "code",
   "execution_count": 19,
   "id": "939a3e85",
   "metadata": {
    "execution": {
     "iopub.execute_input": "2025-09-26T00:25:15.465233Z",
     "iopub.status.busy": "2025-09-26T00:25:15.464902Z",
     "iopub.status.idle": "2025-09-26T00:25:15.619272Z",
     "shell.execute_reply": "2025-09-26T00:25:15.618382Z"
    },
    "papermill": {
     "duration": 0.169234,
     "end_time": "2025-09-26T00:25:15.621152",
     "exception": false,
     "start_time": "2025-09-26T00:25:15.451918",
     "status": "completed"
    },
    "tags": []
   },
   "outputs": [
    {
     "data": {
      "text/html": [
       "<style>#sk-container-id-1 {color: black;background-color: white;}#sk-container-id-1 pre{padding: 0;}#sk-container-id-1 div.sk-toggleable {background-color: white;}#sk-container-id-1 label.sk-toggleable__label {cursor: pointer;display: block;width: 100%;margin-bottom: 0;padding: 0.3em;box-sizing: border-box;text-align: center;}#sk-container-id-1 label.sk-toggleable__label-arrow:before {content: \"▸\";float: left;margin-right: 0.25em;color: #696969;}#sk-container-id-1 label.sk-toggleable__label-arrow:hover:before {color: black;}#sk-container-id-1 div.sk-estimator:hover label.sk-toggleable__label-arrow:before {color: black;}#sk-container-id-1 div.sk-toggleable__content {max-height: 0;max-width: 0;overflow: hidden;text-align: left;background-color: #f0f8ff;}#sk-container-id-1 div.sk-toggleable__content pre {margin: 0.2em;color: black;border-radius: 0.25em;background-color: #f0f8ff;}#sk-container-id-1 input.sk-toggleable__control:checked~div.sk-toggleable__content {max-height: 200px;max-width: 100%;overflow: auto;}#sk-container-id-1 input.sk-toggleable__control:checked~label.sk-toggleable__label-arrow:before {content: \"▾\";}#sk-container-id-1 div.sk-estimator input.sk-toggleable__control:checked~label.sk-toggleable__label {background-color: #d4ebff;}#sk-container-id-1 div.sk-label input.sk-toggleable__control:checked~label.sk-toggleable__label {background-color: #d4ebff;}#sk-container-id-1 input.sk-hidden--visually {border: 0;clip: rect(1px 1px 1px 1px);clip: rect(1px, 1px, 1px, 1px);height: 1px;margin: -1px;overflow: hidden;padding: 0;position: absolute;width: 1px;}#sk-container-id-1 div.sk-estimator {font-family: monospace;background-color: #f0f8ff;border: 1px dotted black;border-radius: 0.25em;box-sizing: border-box;margin-bottom: 0.5em;}#sk-container-id-1 div.sk-estimator:hover {background-color: #d4ebff;}#sk-container-id-1 div.sk-parallel-item::after {content: \"\";width: 100%;border-bottom: 1px solid gray;flex-grow: 1;}#sk-container-id-1 div.sk-label:hover label.sk-toggleable__label {background-color: #d4ebff;}#sk-container-id-1 div.sk-serial::before {content: \"\";position: absolute;border-left: 1px solid gray;box-sizing: border-box;top: 0;bottom: 0;left: 50%;z-index: 0;}#sk-container-id-1 div.sk-serial {display: flex;flex-direction: column;align-items: center;background-color: white;padding-right: 0.2em;padding-left: 0.2em;position: relative;}#sk-container-id-1 div.sk-item {position: relative;z-index: 1;}#sk-container-id-1 div.sk-parallel {display: flex;align-items: stretch;justify-content: center;background-color: white;position: relative;}#sk-container-id-1 div.sk-item::before, #sk-container-id-1 div.sk-parallel-item::before {content: \"\";position: absolute;border-left: 1px solid gray;box-sizing: border-box;top: 0;bottom: 0;left: 50%;z-index: -1;}#sk-container-id-1 div.sk-parallel-item {display: flex;flex-direction: column;z-index: 1;position: relative;background-color: white;}#sk-container-id-1 div.sk-parallel-item:first-child::after {align-self: flex-end;width: 50%;}#sk-container-id-1 div.sk-parallel-item:last-child::after {align-self: flex-start;width: 50%;}#sk-container-id-1 div.sk-parallel-item:only-child::after {width: 0;}#sk-container-id-1 div.sk-dashed-wrapped {border: 1px dashed gray;margin: 0 0.4em 0.5em 0.4em;box-sizing: border-box;padding-bottom: 0.4em;background-color: white;}#sk-container-id-1 div.sk-label label {font-family: monospace;font-weight: bold;display: inline-block;line-height: 1.2em;}#sk-container-id-1 div.sk-label-container {text-align: center;}#sk-container-id-1 div.sk-container {/* jupyter's `normalize.less` sets `[hidden] { display: none; }` but bootstrap.min.css set `[hidden] { display: none !important; }` so we also need the `!important` here to be able to override the default hidden behavior on the sphinx rendered scikit-learn.org. See: https://github.com/scikit-learn/scikit-learn/issues/21755 */display: inline-block !important;position: relative;}#sk-container-id-1 div.sk-text-repr-fallback {display: none;}</style><div id=\"sk-container-id-1\" class=\"sk-top-container\"><div class=\"sk-text-repr-fallback\"><pre>LogisticRegression(max_iter=1000, random_state=42)</pre><b>In a Jupyter environment, please rerun this cell to show the HTML representation or trust the notebook. <br />On GitHub, the HTML representation is unable to render, please try loading this page with nbviewer.org.</b></div><div class=\"sk-container\" hidden><div class=\"sk-item\"><div class=\"sk-estimator sk-toggleable\"><input class=\"sk-toggleable__control sk-hidden--visually\" id=\"sk-estimator-id-1\" type=\"checkbox\" checked><label for=\"sk-estimator-id-1\" class=\"sk-toggleable__label sk-toggleable__label-arrow\">LogisticRegression</label><div class=\"sk-toggleable__content\"><pre>LogisticRegression(max_iter=1000, random_state=42)</pre></div></div></div></div></div>"
      ],
      "text/plain": [
       "LogisticRegression(max_iter=1000, random_state=42)"
      ]
     },
     "execution_count": 19,
     "metadata": {},
     "output_type": "execute_result"
    }
   ],
   "source": [
    "log_reg = LogisticRegression(max_iter=1000, random_state=42)\n",
    "log_reg.fit(X_train, y_train)"
   ]
  },
  {
   "cell_type": "code",
   "execution_count": 20,
   "id": "af8da27f",
   "metadata": {
    "execution": {
     "iopub.execute_input": "2025-09-26T00:25:15.664925Z",
     "iopub.status.busy": "2025-09-26T00:25:15.664567Z",
     "iopub.status.idle": "2025-09-26T00:25:15.682665Z",
     "shell.execute_reply": "2025-09-26T00:25:15.681891Z"
    },
    "papermill": {
     "duration": 0.042282,
     "end_time": "2025-09-26T00:25:15.684827",
     "exception": false,
     "start_time": "2025-09-26T00:25:15.642545",
     "status": "completed"
    },
    "tags": []
   },
   "outputs": [],
   "source": [
    "y_pred_log = log_reg.predict(X_test)\n",
    "y_prob_log = log_reg.predict_proba(X_test)[:, 1]"
   ]
  },
  {
   "cell_type": "code",
   "execution_count": 21,
   "id": "9303dc95",
   "metadata": {
    "execution": {
     "iopub.execute_input": "2025-09-26T00:25:15.729518Z",
     "iopub.status.busy": "2025-09-26T00:25:15.728560Z",
     "iopub.status.idle": "2025-09-26T00:25:15.759108Z",
     "shell.execute_reply": "2025-09-26T00:25:15.758056Z"
    },
    "papermill": {
     "duration": 0.053441,
     "end_time": "2025-09-26T00:25:15.760510",
     "exception": false,
     "start_time": "2025-09-26T00:25:15.707069",
     "status": "completed"
    },
    "tags": []
   },
   "outputs": [
    {
     "name": "stdout",
     "output_type": "stream",
     "text": [
      "Resultados para Regresión Logística\n",
      "              precision    recall  f1-score   support\n",
      "\n",
      "           0       0.68      0.59      0.63       328\n",
      "           1       0.99      0.99      0.99     14672\n",
      "\n",
      "    accuracy                           0.98     15000\n",
      "   macro avg       0.84      0.79      0.81     15000\n",
      "weighted avg       0.98      0.98      0.98     15000\n",
      "\n",
      "ROC-AUC: 0.9916\n",
      "--------------------------------------------------\n"
     ]
    }
   ],
   "source": [
    "print(f\"Resultados para Regresión Logística\")\n",
    "print(classification_report(y_train, y_pred_log))\n",
    "print(f\"ROC-AUC: {roc_auc_score(y_train, y_prob_log):.4f}\")\n",
    "print(\"-\" * 50)"
   ]
  },
  {
   "cell_type": "markdown",
   "id": "da076066",
   "metadata": {
    "papermill": {
     "duration": 0.012349,
     "end_time": "2025-09-26T00:25:15.785585",
     "exception": false,
     "start_time": "2025-09-26T00:25:15.773236",
     "status": "completed"
    },
    "tags": []
   },
   "source": [
    "Random Forest"
   ]
  },
  {
   "cell_type": "code",
   "execution_count": 22,
   "id": "b0617ffd",
   "metadata": {
    "execution": {
     "iopub.execute_input": "2025-09-26T00:25:15.814270Z",
     "iopub.status.busy": "2025-09-26T00:25:15.813692Z",
     "iopub.status.idle": "2025-09-26T00:25:18.184716Z",
     "shell.execute_reply": "2025-09-26T00:25:18.183665Z"
    },
    "papermill": {
     "duration": 2.387342,
     "end_time": "2025-09-26T00:25:18.186427",
     "exception": false,
     "start_time": "2025-09-26T00:25:15.799085",
     "status": "completed"
    },
    "tags": []
   },
   "outputs": [
    {
     "data": {
      "text/html": [
       "<style>#sk-container-id-2 {color: black;background-color: white;}#sk-container-id-2 pre{padding: 0;}#sk-container-id-2 div.sk-toggleable {background-color: white;}#sk-container-id-2 label.sk-toggleable__label {cursor: pointer;display: block;width: 100%;margin-bottom: 0;padding: 0.3em;box-sizing: border-box;text-align: center;}#sk-container-id-2 label.sk-toggleable__label-arrow:before {content: \"▸\";float: left;margin-right: 0.25em;color: #696969;}#sk-container-id-2 label.sk-toggleable__label-arrow:hover:before {color: black;}#sk-container-id-2 div.sk-estimator:hover label.sk-toggleable__label-arrow:before {color: black;}#sk-container-id-2 div.sk-toggleable__content {max-height: 0;max-width: 0;overflow: hidden;text-align: left;background-color: #f0f8ff;}#sk-container-id-2 div.sk-toggleable__content pre {margin: 0.2em;color: black;border-radius: 0.25em;background-color: #f0f8ff;}#sk-container-id-2 input.sk-toggleable__control:checked~div.sk-toggleable__content {max-height: 200px;max-width: 100%;overflow: auto;}#sk-container-id-2 input.sk-toggleable__control:checked~label.sk-toggleable__label-arrow:before {content: \"▾\";}#sk-container-id-2 div.sk-estimator input.sk-toggleable__control:checked~label.sk-toggleable__label {background-color: #d4ebff;}#sk-container-id-2 div.sk-label input.sk-toggleable__control:checked~label.sk-toggleable__label {background-color: #d4ebff;}#sk-container-id-2 input.sk-hidden--visually {border: 0;clip: rect(1px 1px 1px 1px);clip: rect(1px, 1px, 1px, 1px);height: 1px;margin: -1px;overflow: hidden;padding: 0;position: absolute;width: 1px;}#sk-container-id-2 div.sk-estimator {font-family: monospace;background-color: #f0f8ff;border: 1px dotted black;border-radius: 0.25em;box-sizing: border-box;margin-bottom: 0.5em;}#sk-container-id-2 div.sk-estimator:hover {background-color: #d4ebff;}#sk-container-id-2 div.sk-parallel-item::after {content: \"\";width: 100%;border-bottom: 1px solid gray;flex-grow: 1;}#sk-container-id-2 div.sk-label:hover label.sk-toggleable__label {background-color: #d4ebff;}#sk-container-id-2 div.sk-serial::before {content: \"\";position: absolute;border-left: 1px solid gray;box-sizing: border-box;top: 0;bottom: 0;left: 50%;z-index: 0;}#sk-container-id-2 div.sk-serial {display: flex;flex-direction: column;align-items: center;background-color: white;padding-right: 0.2em;padding-left: 0.2em;position: relative;}#sk-container-id-2 div.sk-item {position: relative;z-index: 1;}#sk-container-id-2 div.sk-parallel {display: flex;align-items: stretch;justify-content: center;background-color: white;position: relative;}#sk-container-id-2 div.sk-item::before, #sk-container-id-2 div.sk-parallel-item::before {content: \"\";position: absolute;border-left: 1px solid gray;box-sizing: border-box;top: 0;bottom: 0;left: 50%;z-index: -1;}#sk-container-id-2 div.sk-parallel-item {display: flex;flex-direction: column;z-index: 1;position: relative;background-color: white;}#sk-container-id-2 div.sk-parallel-item:first-child::after {align-self: flex-end;width: 50%;}#sk-container-id-2 div.sk-parallel-item:last-child::after {align-self: flex-start;width: 50%;}#sk-container-id-2 div.sk-parallel-item:only-child::after {width: 0;}#sk-container-id-2 div.sk-dashed-wrapped {border: 1px dashed gray;margin: 0 0.4em 0.5em 0.4em;box-sizing: border-box;padding-bottom: 0.4em;background-color: white;}#sk-container-id-2 div.sk-label label {font-family: monospace;font-weight: bold;display: inline-block;line-height: 1.2em;}#sk-container-id-2 div.sk-label-container {text-align: center;}#sk-container-id-2 div.sk-container {/* jupyter's `normalize.less` sets `[hidden] { display: none; }` but bootstrap.min.css set `[hidden] { display: none !important; }` so we also need the `!important` here to be able to override the default hidden behavior on the sphinx rendered scikit-learn.org. See: https://github.com/scikit-learn/scikit-learn/issues/21755 */display: inline-block !important;position: relative;}#sk-container-id-2 div.sk-text-repr-fallback {display: none;}</style><div id=\"sk-container-id-2\" class=\"sk-top-container\"><div class=\"sk-text-repr-fallback\"><pre>RandomForestClassifier(max_depth=10, n_estimators=200, random_state=42)</pre><b>In a Jupyter environment, please rerun this cell to show the HTML representation or trust the notebook. <br />On GitHub, the HTML representation is unable to render, please try loading this page with nbviewer.org.</b></div><div class=\"sk-container\" hidden><div class=\"sk-item\"><div class=\"sk-estimator sk-toggleable\"><input class=\"sk-toggleable__control sk-hidden--visually\" id=\"sk-estimator-id-2\" type=\"checkbox\" checked><label for=\"sk-estimator-id-2\" class=\"sk-toggleable__label sk-toggleable__label-arrow\">RandomForestClassifier</label><div class=\"sk-toggleable__content\"><pre>RandomForestClassifier(max_depth=10, n_estimators=200, random_state=42)</pre></div></div></div></div></div>"
      ],
      "text/plain": [
       "RandomForestClassifier(max_depth=10, n_estimators=200, random_state=42)"
      ]
     },
     "execution_count": 22,
     "metadata": {},
     "output_type": "execute_result"
    }
   ],
   "source": [
    "modelo_rf = RandomForestClassifier(n_estimators=200, max_depth=10, random_state=42)\n",
    "modelo_rf.fit(X_train, y_train)"
   ]
  },
  {
   "cell_type": "code",
   "execution_count": 23,
   "id": "77432e22",
   "metadata": {
    "execution": {
     "iopub.execute_input": "2025-09-26T00:25:18.214483Z",
     "iopub.status.busy": "2025-09-26T00:25:18.214183Z",
     "iopub.status.idle": "2025-09-26T00:25:18.533174Z",
     "shell.execute_reply": "2025-09-26T00:25:18.532121Z"
    },
    "papermill": {
     "duration": 0.334949,
     "end_time": "2025-09-26T00:25:18.534936",
     "exception": false,
     "start_time": "2025-09-26T00:25:18.199987",
     "status": "completed"
    },
    "tags": []
   },
   "outputs": [],
   "source": [
    "y_pred_rf = modelo_rf.predict(X_test)\n",
    "y_prob_rf = modelo_rf.predict_proba(X_test)[:, 1]"
   ]
  },
  {
   "cell_type": "code",
   "execution_count": 24,
   "id": "20d5410d",
   "metadata": {
    "execution": {
     "iopub.execute_input": "2025-09-26T00:25:18.562374Z",
     "iopub.status.busy": "2025-09-26T00:25:18.562027Z",
     "iopub.status.idle": "2025-09-26T00:25:18.592588Z",
     "shell.execute_reply": "2025-09-26T00:25:18.591293Z"
    },
    "papermill": {
     "duration": 0.046498,
     "end_time": "2025-09-26T00:25:18.594369",
     "exception": false,
     "start_time": "2025-09-26T00:25:18.547871",
     "status": "completed"
    },
    "tags": []
   },
   "outputs": [
    {
     "name": "stdout",
     "output_type": "stream",
     "text": [
      "Resultados para Random Forest\n",
      "              precision    recall  f1-score   support\n",
      "\n",
      "           0       0.65      0.52      0.58       328\n",
      "           1       0.99      0.99      0.99     14672\n",
      "\n",
      "    accuracy                           0.98     15000\n",
      "   macro avg       0.82      0.76      0.79     15000\n",
      "weighted avg       0.98      0.98      0.98     15000\n",
      "\n",
      "ROC-AUC: 0.9896\n",
      "--------------------------------------------------\n"
     ]
    }
   ],
   "source": [
    "print(f\"Resultados para Random Forest\")\n",
    "print(classification_report(y_train, y_pred_rf))\n",
    "print(f\"ROC-AUC: {roc_auc_score(y_train, y_prob_rf):.4f}\")\n",
    "print(\"-\" * 50)"
   ]
  },
  {
   "cell_type": "markdown",
   "id": "bcdbcc17",
   "metadata": {
    "papermill": {
     "duration": 0.013923,
     "end_time": "2025-09-26T00:25:18.622029",
     "exception": false,
     "start_time": "2025-09-26T00:25:18.608106",
     "status": "completed"
    },
    "tags": []
   },
   "source": [
    "XGBoost"
   ]
  },
  {
   "cell_type": "code",
   "execution_count": 25,
   "id": "2f9607bc",
   "metadata": {
    "execution": {
     "iopub.execute_input": "2025-09-26T00:25:18.650231Z",
     "iopub.status.busy": "2025-09-26T00:25:18.649907Z",
     "iopub.status.idle": "2025-09-26T00:25:18.935134Z",
     "shell.execute_reply": "2025-09-26T00:25:18.934150Z"
    },
    "papermill": {
     "duration": 0.301332,
     "end_time": "2025-09-26T00:25:18.936721",
     "exception": false,
     "start_time": "2025-09-26T00:25:18.635389",
     "status": "completed"
    },
    "tags": []
   },
   "outputs": [
    {
     "data": {
      "text/html": [
       "<style>#sk-container-id-3 {color: black;background-color: white;}#sk-container-id-3 pre{padding: 0;}#sk-container-id-3 div.sk-toggleable {background-color: white;}#sk-container-id-3 label.sk-toggleable__label {cursor: pointer;display: block;width: 100%;margin-bottom: 0;padding: 0.3em;box-sizing: border-box;text-align: center;}#sk-container-id-3 label.sk-toggleable__label-arrow:before {content: \"▸\";float: left;margin-right: 0.25em;color: #696969;}#sk-container-id-3 label.sk-toggleable__label-arrow:hover:before {color: black;}#sk-container-id-3 div.sk-estimator:hover label.sk-toggleable__label-arrow:before {color: black;}#sk-container-id-3 div.sk-toggleable__content {max-height: 0;max-width: 0;overflow: hidden;text-align: left;background-color: #f0f8ff;}#sk-container-id-3 div.sk-toggleable__content pre {margin: 0.2em;color: black;border-radius: 0.25em;background-color: #f0f8ff;}#sk-container-id-3 input.sk-toggleable__control:checked~div.sk-toggleable__content {max-height: 200px;max-width: 100%;overflow: auto;}#sk-container-id-3 input.sk-toggleable__control:checked~label.sk-toggleable__label-arrow:before {content: \"▾\";}#sk-container-id-3 div.sk-estimator input.sk-toggleable__control:checked~label.sk-toggleable__label {background-color: #d4ebff;}#sk-container-id-3 div.sk-label input.sk-toggleable__control:checked~label.sk-toggleable__label {background-color: #d4ebff;}#sk-container-id-3 input.sk-hidden--visually {border: 0;clip: rect(1px 1px 1px 1px);clip: rect(1px, 1px, 1px, 1px);height: 1px;margin: -1px;overflow: hidden;padding: 0;position: absolute;width: 1px;}#sk-container-id-3 div.sk-estimator {font-family: monospace;background-color: #f0f8ff;border: 1px dotted black;border-radius: 0.25em;box-sizing: border-box;margin-bottom: 0.5em;}#sk-container-id-3 div.sk-estimator:hover {background-color: #d4ebff;}#sk-container-id-3 div.sk-parallel-item::after {content: \"\";width: 100%;border-bottom: 1px solid gray;flex-grow: 1;}#sk-container-id-3 div.sk-label:hover label.sk-toggleable__label {background-color: #d4ebff;}#sk-container-id-3 div.sk-serial::before {content: \"\";position: absolute;border-left: 1px solid gray;box-sizing: border-box;top: 0;bottom: 0;left: 50%;z-index: 0;}#sk-container-id-3 div.sk-serial {display: flex;flex-direction: column;align-items: center;background-color: white;padding-right: 0.2em;padding-left: 0.2em;position: relative;}#sk-container-id-3 div.sk-item {position: relative;z-index: 1;}#sk-container-id-3 div.sk-parallel {display: flex;align-items: stretch;justify-content: center;background-color: white;position: relative;}#sk-container-id-3 div.sk-item::before, #sk-container-id-3 div.sk-parallel-item::before {content: \"\";position: absolute;border-left: 1px solid gray;box-sizing: border-box;top: 0;bottom: 0;left: 50%;z-index: -1;}#sk-container-id-3 div.sk-parallel-item {display: flex;flex-direction: column;z-index: 1;position: relative;background-color: white;}#sk-container-id-3 div.sk-parallel-item:first-child::after {align-self: flex-end;width: 50%;}#sk-container-id-3 div.sk-parallel-item:last-child::after {align-self: flex-start;width: 50%;}#sk-container-id-3 div.sk-parallel-item:only-child::after {width: 0;}#sk-container-id-3 div.sk-dashed-wrapped {border: 1px dashed gray;margin: 0 0.4em 0.5em 0.4em;box-sizing: border-box;padding-bottom: 0.4em;background-color: white;}#sk-container-id-3 div.sk-label label {font-family: monospace;font-weight: bold;display: inline-block;line-height: 1.2em;}#sk-container-id-3 div.sk-label-container {text-align: center;}#sk-container-id-3 div.sk-container {/* jupyter's `normalize.less` sets `[hidden] { display: none; }` but bootstrap.min.css set `[hidden] { display: none !important; }` so we also need the `!important` here to be able to override the default hidden behavior on the sphinx rendered scikit-learn.org. See: https://github.com/scikit-learn/scikit-learn/issues/21755 */display: inline-block !important;position: relative;}#sk-container-id-3 div.sk-text-repr-fallback {display: none;}</style><div id=\"sk-container-id-3\" class=\"sk-top-container\"><div class=\"sk-text-repr-fallback\"><pre>XGBClassifier(base_score=None, booster=None, callbacks=None,\n",
       "              colsample_bylevel=None, colsample_bynode=None,\n",
       "              colsample_bytree=None, device=None, early_stopping_rounds=None,\n",
       "              enable_categorical=False, eval_metric=&#x27;logloss&#x27;,\n",
       "              feature_types=None, gamma=None, grow_policy=None,\n",
       "              importance_type=None, interaction_constraints=None,\n",
       "              learning_rate=0.01, max_bin=None, max_cat_threshold=None,\n",
       "              max_cat_to_onehot=None, max_delta_step=None, max_depth=5,\n",
       "              max_leaves=None, min_child_weight=None, missing=nan,\n",
       "              monotone_constraints=None, multi_strategy=None, n_estimators=300,\n",
       "              n_jobs=None, num_parallel_tree=None, random_state=42, ...)</pre><b>In a Jupyter environment, please rerun this cell to show the HTML representation or trust the notebook. <br />On GitHub, the HTML representation is unable to render, please try loading this page with nbviewer.org.</b></div><div class=\"sk-container\" hidden><div class=\"sk-item\"><div class=\"sk-estimator sk-toggleable\"><input class=\"sk-toggleable__control sk-hidden--visually\" id=\"sk-estimator-id-3\" type=\"checkbox\" checked><label for=\"sk-estimator-id-3\" class=\"sk-toggleable__label sk-toggleable__label-arrow\">XGBClassifier</label><div class=\"sk-toggleable__content\"><pre>XGBClassifier(base_score=None, booster=None, callbacks=None,\n",
       "              colsample_bylevel=None, colsample_bynode=None,\n",
       "              colsample_bytree=None, device=None, early_stopping_rounds=None,\n",
       "              enable_categorical=False, eval_metric=&#x27;logloss&#x27;,\n",
       "              feature_types=None, gamma=None, grow_policy=None,\n",
       "              importance_type=None, interaction_constraints=None,\n",
       "              learning_rate=0.01, max_bin=None, max_cat_threshold=None,\n",
       "              max_cat_to_onehot=None, max_delta_step=None, max_depth=5,\n",
       "              max_leaves=None, min_child_weight=None, missing=nan,\n",
       "              monotone_constraints=None, multi_strategy=None, n_estimators=300,\n",
       "              n_jobs=None, num_parallel_tree=None, random_state=42, ...)</pre></div></div></div></div></div>"
      ],
      "text/plain": [
       "XGBClassifier(base_score=None, booster=None, callbacks=None,\n",
       "              colsample_bylevel=None, colsample_bynode=None,\n",
       "              colsample_bytree=None, device=None, early_stopping_rounds=None,\n",
       "              enable_categorical=False, eval_metric='logloss',\n",
       "              feature_types=None, gamma=None, grow_policy=None,\n",
       "              importance_type=None, interaction_constraints=None,\n",
       "              learning_rate=0.01, max_bin=None, max_cat_threshold=None,\n",
       "              max_cat_to_onehot=None, max_delta_step=None, max_depth=5,\n",
       "              max_leaves=None, min_child_weight=None, missing=nan,\n",
       "              monotone_constraints=None, multi_strategy=None, n_estimators=300,\n",
       "              n_jobs=None, num_parallel_tree=None, random_state=42, ...)"
      ]
     },
     "execution_count": 25,
     "metadata": {},
     "output_type": "execute_result"
    }
   ],
   "source": [
    "modelo_xgb = XGBClassifier(\n",
    "    n_estimators=300,\n",
    "    learning_rate=0.01,\n",
    "    max_depth=5,\n",
    "    random_state=42,\n",
    "    use_label_encoder=False,\n",
    "    eval_metric=\"logloss\"\n",
    ")\n",
    "modelo_xgb.fit(X_train, y_train)"
   ]
  },
  {
   "cell_type": "code",
   "execution_count": 26,
   "id": "75d4c792",
   "metadata": {
    "execution": {
     "iopub.execute_input": "2025-09-26T00:25:18.964110Z",
     "iopub.status.busy": "2025-09-26T00:25:18.963745Z",
     "iopub.status.idle": "2025-09-26T00:25:19.014359Z",
     "shell.execute_reply": "2025-09-26T00:25:19.013702Z"
    },
    "papermill": {
     "duration": 0.066437,
     "end_time": "2025-09-26T00:25:19.016211",
     "exception": false,
     "start_time": "2025-09-26T00:25:18.949774",
     "status": "completed"
    },
    "tags": []
   },
   "outputs": [],
   "source": [
    "y_pred_xgb = modelo_xgb.predict(X_test)\n",
    "y_prob_xgb = modelo_xgb.predict_proba(X_test)[:, 1]"
   ]
  },
  {
   "cell_type": "code",
   "execution_count": 27,
   "id": "5c975374",
   "metadata": {
    "execution": {
     "iopub.execute_input": "2025-09-26T00:25:19.044375Z",
     "iopub.status.busy": "2025-09-26T00:25:19.044078Z",
     "iopub.status.idle": "2025-09-26T00:25:19.073137Z",
     "shell.execute_reply": "2025-09-26T00:25:19.071784Z"
    },
    "papermill": {
     "duration": 0.04484,
     "end_time": "2025-09-26T00:25:19.074679",
     "exception": false,
     "start_time": "2025-09-26T00:25:19.029839",
     "status": "completed"
    },
    "tags": []
   },
   "outputs": [
    {
     "name": "stdout",
     "output_type": "stream",
     "text": [
      "Resultados para XGBoost\n",
      "              precision    recall  f1-score   support\n",
      "\n",
      "           0       0.65      0.55      0.59       328\n",
      "           1       0.99      0.99      0.99     14672\n",
      "\n",
      "    accuracy                           0.98     15000\n",
      "   macro avg       0.82      0.77      0.79     15000\n",
      "weighted avg       0.98      0.98      0.98     15000\n",
      "\n",
      "ROC-AUC: 0.9917\n",
      "--------------------------------------------------\n"
     ]
    }
   ],
   "source": [
    "print(f\"Resultados para XGBoost\")\n",
    "print(classification_report(y_train, y_pred_xgb))\n",
    "print(f\"ROC-AUC: {roc_auc_score(y_train, y_prob_xgb):.4f}\")\n",
    "print(\"-\" * 50)"
   ]
  },
  {
   "cell_type": "code",
   "execution_count": 28,
   "id": "e28a38ae",
   "metadata": {
    "execution": {
     "iopub.execute_input": "2025-09-26T00:25:19.103454Z",
     "iopub.status.busy": "2025-09-26T00:25:19.103146Z",
     "iopub.status.idle": "2025-09-26T00:25:19.120815Z",
     "shell.execute_reply": "2025-09-26T00:25:19.119903Z"
    },
    "papermill": {
     "duration": 0.034505,
     "end_time": "2025-09-26T00:25:19.122541",
     "exception": false,
     "start_time": "2025-09-26T00:25:19.088036",
     "status": "completed"
    },
    "tags": []
   },
   "outputs": [
    {
     "data": {
      "text/html": [
       "<div>\n",
       "<style scoped>\n",
       "    .dataframe tbody tr th:only-of-type {\n",
       "        vertical-align: middle;\n",
       "    }\n",
       "\n",
       "    .dataframe tbody tr th {\n",
       "        vertical-align: top;\n",
       "    }\n",
       "\n",
       "    .dataframe thead th {\n",
       "        text-align: right;\n",
       "    }\n",
       "</style>\n",
       "<table border=\"1\" class=\"dataframe\">\n",
       "  <thead>\n",
       "    <tr style=\"text-align: right;\">\n",
       "      <th></th>\n",
       "      <th>ID</th>\n",
       "      <th>Fallos</th>\n",
       "    </tr>\n",
       "  </thead>\n",
       "  <tbody>\n",
       "    <tr>\n",
       "      <th>0</th>\n",
       "      <td>0</td>\n",
       "      <td>1</td>\n",
       "    </tr>\n",
       "    <tr>\n",
       "      <th>1</th>\n",
       "      <td>1</td>\n",
       "      <td>0</td>\n",
       "    </tr>\n",
       "    <tr>\n",
       "      <th>2</th>\n",
       "      <td>2</td>\n",
       "      <td>1</td>\n",
       "    </tr>\n",
       "    <tr>\n",
       "      <th>3</th>\n",
       "      <td>3</td>\n",
       "      <td>0</td>\n",
       "    </tr>\n",
       "    <tr>\n",
       "      <th>4</th>\n",
       "      <td>4</td>\n",
       "      <td>0</td>\n",
       "    </tr>\n",
       "    <tr>\n",
       "      <th>...</th>\n",
       "      <td>...</td>\n",
       "      <td>...</td>\n",
       "    </tr>\n",
       "    <tr>\n",
       "      <th>14995</th>\n",
       "      <td>14995</td>\n",
       "      <td>0</td>\n",
       "    </tr>\n",
       "    <tr>\n",
       "      <th>14996</th>\n",
       "      <td>14996</td>\n",
       "      <td>0</td>\n",
       "    </tr>\n",
       "    <tr>\n",
       "      <th>14997</th>\n",
       "      <td>14997</td>\n",
       "      <td>1</td>\n",
       "    </tr>\n",
       "    <tr>\n",
       "      <th>14998</th>\n",
       "      <td>14998</td>\n",
       "      <td>1</td>\n",
       "    </tr>\n",
       "    <tr>\n",
       "      <th>14999</th>\n",
       "      <td>14999</td>\n",
       "      <td>0</td>\n",
       "    </tr>\n",
       "  </tbody>\n",
       "</table>\n",
       "<p>15000 rows × 2 columns</p>\n",
       "</div>"
      ],
      "text/plain": [
       "          ID  Fallos\n",
       "0          0       1\n",
       "1          1       0\n",
       "2          2       1\n",
       "3          3       0\n",
       "4          4       0\n",
       "...      ...     ...\n",
       "14995  14995       0\n",
       "14996  14996       0\n",
       "14997  14997       1\n",
       "14998  14998       1\n",
       "14999  14999       0\n",
       "\n",
       "[15000 rows x 2 columns]"
      ]
     },
     "execution_count": 28,
     "metadata": {},
     "output_type": "execute_result"
    }
   ],
   "source": [
    "submission = pd.read_csv(\"/kaggle/input/devices-error-detection-acmud-2025/sample_submission.csv\")\n",
    "submission"
   ]
  },
  {
   "cell_type": "code",
   "execution_count": 29,
   "id": "8acd57fb",
   "metadata": {
    "execution": {
     "iopub.execute_input": "2025-09-26T00:25:19.150218Z",
     "iopub.status.busy": "2025-09-26T00:25:19.149910Z",
     "iopub.status.idle": "2025-09-26T00:25:19.160699Z",
     "shell.execute_reply": "2025-09-26T00:25:19.159621Z"
    },
    "papermill": {
     "duration": 0.026283,
     "end_time": "2025-09-26T00:25:19.162199",
     "exception": false,
     "start_time": "2025-09-26T00:25:19.135916",
     "status": "completed"
    },
    "tags": []
   },
   "outputs": [
    {
     "data": {
      "text/html": [
       "<div>\n",
       "<style scoped>\n",
       "    .dataframe tbody tr th:only-of-type {\n",
       "        vertical-align: middle;\n",
       "    }\n",
       "\n",
       "    .dataframe tbody tr th {\n",
       "        vertical-align: top;\n",
       "    }\n",
       "\n",
       "    .dataframe thead th {\n",
       "        text-align: right;\n",
       "    }\n",
       "</style>\n",
       "<table border=\"1\" class=\"dataframe\">\n",
       "  <thead>\n",
       "    <tr style=\"text-align: right;\">\n",
       "      <th></th>\n",
       "      <th>ID</th>\n",
       "      <th>Fallos</th>\n",
       "    </tr>\n",
       "  </thead>\n",
       "  <tbody>\n",
       "    <tr>\n",
       "      <th>0</th>\n",
       "      <td>0</td>\n",
       "      <td>0</td>\n",
       "    </tr>\n",
       "    <tr>\n",
       "      <th>1</th>\n",
       "      <td>1</td>\n",
       "      <td>0</td>\n",
       "    </tr>\n",
       "    <tr>\n",
       "      <th>2</th>\n",
       "      <td>2</td>\n",
       "      <td>0</td>\n",
       "    </tr>\n",
       "    <tr>\n",
       "      <th>3</th>\n",
       "      <td>3</td>\n",
       "      <td>0</td>\n",
       "    </tr>\n",
       "    <tr>\n",
       "      <th>4</th>\n",
       "      <td>4</td>\n",
       "      <td>0</td>\n",
       "    </tr>\n",
       "    <tr>\n",
       "      <th>...</th>\n",
       "      <td>...</td>\n",
       "      <td>...</td>\n",
       "    </tr>\n",
       "    <tr>\n",
       "      <th>14995</th>\n",
       "      <td>14995</td>\n",
       "      <td>1</td>\n",
       "    </tr>\n",
       "    <tr>\n",
       "      <th>14996</th>\n",
       "      <td>14996</td>\n",
       "      <td>1</td>\n",
       "    </tr>\n",
       "    <tr>\n",
       "      <th>14997</th>\n",
       "      <td>14997</td>\n",
       "      <td>1</td>\n",
       "    </tr>\n",
       "    <tr>\n",
       "      <th>14998</th>\n",
       "      <td>14998</td>\n",
       "      <td>1</td>\n",
       "    </tr>\n",
       "    <tr>\n",
       "      <th>14999</th>\n",
       "      <td>14999</td>\n",
       "      <td>1</td>\n",
       "    </tr>\n",
       "  </tbody>\n",
       "</table>\n",
       "<p>15000 rows × 2 columns</p>\n",
       "</div>"
      ],
      "text/plain": [
       "          ID  Fallos\n",
       "0          0       0\n",
       "1          1       0\n",
       "2          2       0\n",
       "3          3       0\n",
       "4          4       0\n",
       "...      ...     ...\n",
       "14995  14995       1\n",
       "14996  14996       1\n",
       "14997  14997       1\n",
       "14998  14998       1\n",
       "14999  14999       1\n",
       "\n",
       "[15000 rows x 2 columns]"
      ]
     },
     "execution_count": 29,
     "metadata": {},
     "output_type": "execute_result"
    }
   ],
   "source": [
    "submission['Fallos'] = y_pred_rf\n",
    "submission"
   ]
  },
  {
   "cell_type": "code",
   "execution_count": 30,
   "id": "375852e3",
   "metadata": {
    "execution": {
     "iopub.execute_input": "2025-09-26T00:25:19.189895Z",
     "iopub.status.busy": "2025-09-26T00:25:19.189521Z",
     "iopub.status.idle": "2025-09-26T00:25:19.210624Z",
     "shell.execute_reply": "2025-09-26T00:25:19.209750Z"
    },
    "papermill": {
     "duration": 0.03696,
     "end_time": "2025-09-26T00:25:19.212443",
     "exception": false,
     "start_time": "2025-09-26T00:25:19.175483",
     "status": "completed"
    },
    "tags": []
   },
   "outputs": [],
   "source": [
    "submission.to_csv(\"test_submission.csv\", index=False)"
   ]
  }
 ],
 "metadata": {
  "kaggle": {
   "accelerator": "none",
   "dataSources": [
    {
     "databundleVersionId": 13793978,
     "sourceId": 115545,
     "sourceType": "competition"
    }
   ],
   "dockerImageVersionId": 31089,
   "isGpuEnabled": false,
   "isInternetEnabled": true,
   "language": "python",
   "sourceType": "notebook"
  },
  "kernelspec": {
   "display_name": "Python 3",
   "language": "python",
   "name": "python3"
  },
  "language_info": {
   "codemirror_mode": {
    "name": "ipython",
    "version": 3
   },
   "file_extension": ".py",
   "mimetype": "text/x-python",
   "name": "python",
   "nbconvert_exporter": "python",
   "pygments_lexer": "ipython3",
   "version": "3.11.13"
  },
  "papermill": {
   "default_parameters": {},
   "duration": 19.320903,
   "end_time": "2025-09-26T00:25:20.047888",
   "environment_variables": {},
   "exception": null,
   "input_path": "__notebook__.ipynb",
   "output_path": "__notebook__.ipynb",
   "parameters": {},
   "start_time": "2025-09-26T00:25:00.726985",
   "version": "2.6.0"
  }
 },
 "nbformat": 4,
 "nbformat_minor": 5
}
